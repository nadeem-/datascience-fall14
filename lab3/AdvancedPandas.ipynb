{
 "metadata": {
  "name": "",
  "signature": "sha256:3a56b65fcb62a7e8c30a63bec8c1f0bde04fe0c15d779f3048520a294a71d9f6"
 },
 "nbformat": 3,
 "nbformat_minor": 0,
 "worksheets": [
  {
   "cells": [
    {
     "cell_type": "markdown",
     "metadata": {},
     "source": [
      "Advanced Pandas Lab\n",
      "===================\n",
      "\n",
      "The goal of this part of Lab3 is to go over some advanced functionalities of the pandas package. To complete this exercise you need to follow the code provided below step-by-step. At different points you will be requested to complete various code segments so that you retrieve the output presented in the following cells."
     ]
    },
    {
     "cell_type": "code",
     "collapsed": false,
     "input": [
      "# Import pandas and numpy\n",
      "import pandas as pd\n",
      "import numpy as np\n",
      "\n",
      "# Set some Pandas options\n",
      "pd.set_option('display.notebook_repr_html', False)\n",
      "pd.set_option('display.max_columns', 20)\n",
      "pd.set_option('display.max_rows', 25)"
     ],
     "language": "python",
     "metadata": {},
     "outputs": [],
     "prompt_number": 155
    },
    {
     "cell_type": "markdown",
     "metadata": {},
     "source": [
      "Dataset Description\n",
      "-------------------\n",
      "\n",
      "In this lab we are going to use a dataset from a multi-center, randomized controlled trial of botulinum toxin type B (BotB) in patients with cervical dystonia from nine U.S. sites. Below you can find some information about the clinical trial:\n",
      "\n",
      "* Patients were randomly separated in three groups. The first group had N=36 patients and received a placebo, the second group had N=36 patients and received 5000 units of BotB, and the last group had N=37 and received 10,000 units of BotB.\n",
      "* The response variable corresponds to the total score on Toronto Western Spasmodic Torticollis Rating Scale (TWSTRS), measuring severity, pain and disability of cervical dystonia (high scores mean more impairment).\n",
      "* TWSTRS is measured at baseline week (week 0) and weeks 2, 4, 8, 12, and 16 after treatment began.\n",
      "\n",
      "Let's load the dataset from a csv file and see how the first rows look like."
     ]
    },
    {
     "cell_type": "code",
     "collapsed": false,
     "input": [
      "cdystonia = pd.read_csv(\"data/cdystonia.csv\", index_col=None)\n",
      "cdystonia['twstrs'] = cdystonia['twstrs'].astype(np.float64)\n",
      "cdystonia.head()"
     ],
     "language": "python",
     "metadata": {},
     "outputs": [
      {
       "metadata": {},
       "output_type": "pyout",
       "prompt_number": 156,
       "text": [
        "   patient  obs  week  site  id  treat  age sex  twstrs\n",
        "0        1    1     0     1   1  5000U   65   F      32\n",
        "1        1    2     2     1   1  5000U   65   F      30\n",
        "2        1    3     4     1   1  5000U   65   F      24\n",
        "3        1    4     8     1   1  5000U   65   F      37\n",
        "4        1    5    12     1   1  5000U   65   F      39"
       ]
      }
     ],
     "prompt_number": 156
    },
    {
     "cell_type": "markdown",
     "metadata": {},
     "source": [
      "Value replacement\n",
      "-----------------\n",
      "\n",
      "Frequently, we get data columns that are encoded as strings that we wish to represent numerically for the purposes of including it in a quantitative analysis. For example, consider the treatment variable in the cervical dystonia dataset. We print the number of rows containing each treatment value."
     ]
    },
    {
     "cell_type": "code",
     "collapsed": false,
     "input": [
      "cdystonia.treat.value_counts()"
     ],
     "language": "python",
     "metadata": {},
     "outputs": [
      {
       "metadata": {},
       "output_type": "pyout",
       "prompt_number": 157,
       "text": [
        "10000U     213\n",
        "5000U      211\n",
        "Placebo    207\n",
        "dtype: int64"
       ]
      }
     ],
     "prompt_number": 157
    },
    {
     "cell_type": "markdown",
     "metadata": {},
     "source": [
      "A logical way to specify these numerically is to change them to integer values, perhaps using \"Placebo\" as a baseline value. If we create a dictionary with the original values as keys and the replacements as values, we can use it to implement the changes. We define the following map: "
     ]
    },
    {
     "cell_type": "code",
     "collapsed": false,
     "input": [
      "treat_map = {'Placebo': 0, '5000U': 1, '10000U': 2}"
     ],
     "language": "python",
     "metadata": {},
     "outputs": [],
     "prompt_number": 158
    },
    {
     "cell_type": "markdown",
     "metadata": {},
     "source": [
      "**Exercise:** Use the *replace* command of pandas ([documentation for replace command](http://pandas.pydata.org/pandas-docs/stable/generated/pandas.DataFrame.replace.html)) on the treat column to replace the string values with the integer values of the map. Store the result of this transformation into a new column named \"treatment\" in the original dataframe. Your output when you print the head of cdystonia should look like:"
     ]
    },
    {
     "cell_type": "code",
     "collapsed": false,
     "input": [
      "cdystonia['treatment'] = cdystonia.treat.replace(treat_map)"
     ],
     "language": "python",
     "metadata": {},
     "outputs": [],
     "prompt_number": 159
    },
    {
     "cell_type": "code",
     "collapsed": false,
     "input": [
      "cdystonia.head()"
     ],
     "language": "python",
     "metadata": {},
     "outputs": [
      {
       "metadata": {},
       "output_type": "pyout",
       "prompt_number": 160,
       "text": [
        "   patient  obs  week  site  id  treat  age sex  twstrs  treatment\n",
        "0        1    1     0     1   1  5000U   65   F      32          1\n",
        "1        1    2     2     1   1  5000U   65   F      30          1\n",
        "2        1    3     4     1   1  5000U   65   F      24          1\n",
        "3        1    4     8     1   1  5000U   65   F      37          1\n",
        "4        1    5    12     1   1  5000U   65   F      39          1"
       ]
      }
     ],
     "prompt_number": 160
    },
    {
     "cell_type": "markdown",
     "metadata": {},
     "source": [
      "Value discretization\n",
      "--------------------\n",
      "\n",
      "Now we focus on discretization of continuous or countable data into bins. The function that you need to use for discretization is *cut* [(documentation for cut command)](http://pandas.pydata.org/pandas-docs/stable/generated/pandas.cut.html). We want to bin the ages of the cervical dystonia patients into a smaller number of groups. Let's see some statistics regarding the age column of cdystonia."
     ]
    },
    {
     "cell_type": "code",
     "collapsed": false,
     "input": [
      "cdystonia.age.describe()"
     ],
     "language": "python",
     "metadata": {},
     "outputs": [
      {
       "metadata": {},
       "output_type": "pyout",
       "prompt_number": 161,
       "text": [
        "count    631.000000\n",
        "mean      55.616482\n",
        "std       12.123910\n",
        "min       26.000000\n",
        "25%       46.000000\n",
        "50%       56.000000\n",
        "75%       65.000000\n",
        "max       83.000000\n",
        "dtype: float64"
       ]
      }
     ],
     "prompt_number": 161
    },
    {
     "cell_type": "markdown",
     "metadata": {},
     "source": [
      "**Exercise:** Use the cut command to transform this data into decades, beginning with individuals in their 20's and ending with those in their 90's. More precisely the bins should be set to [20,40,60,80,90]. After you perform the transformation print the first 30 entries of the transformation result. Your output should be:"
     ]
    },
    {
     "cell_type": "code",
     "collapsed": false,
     "input": [
      "cutOutput = pd.cut(cdystonia.age, [20,40,60,80,90])"
     ],
     "language": "python",
     "metadata": {},
     "outputs": [],
     "prompt_number": 162
    },
    {
     "cell_type": "code",
     "collapsed": false,
     "input": [
      "cutOutput[:30]"
     ],
     "language": "python",
     "metadata": {},
     "outputs": [
      {
       "metadata": {},
       "output_type": "pyout",
       "prompt_number": 163,
       "text": [
        " (60, 80]\n",
        " (60, 80]\n",
        " (60, 80]\n",
        " (60, 80]\n",
        " (60, 80]\n",
        " (60, 80]\n",
        " (60, 80]\n",
        " (60, 80]\n",
        " (60, 80]\n",
        " (60, 80]\n",
        "...\n",
        " (40, 60]\n",
        " (40, 60]\n",
        " (40, 60]\n",
        " (60, 80]\n",
        " (60, 80]\n",
        " (60, 80]\n",
        " (60, 80]\n",
        " (60, 80]\n",
        " (60, 80]\n",
        " (40, 60]\n",
        " (40, 60]\n",
        "Levels (4): Index(['(20, 40]', '(40, 60]', '(60, 80]', '(80, 90]'], dtype=object)\n",
        "Length: 30"
       ]
      }
     ],
     "prompt_number": 163
    },
    {
     "cell_type": "markdown",
     "metadata": {},
     "source": [
      "**Exercise:** Since the data are now **ordinal**, rather than numeric, we can give them labels. Use the cut command again with the same bins from the previous exercise but this time assign the labels 'young', 'middle-aged', 'old' and 'ancient' to each bin respectively. After that, extend the cdystonia DataFrame to contain a new column named \"ageGroup\" that contains the appropriate label for each row. After this transformation, the head of the cdystonia DataFrame should look like this:"
     ]
    },
    {
     "cell_type": "code",
     "collapsed": false,
     "input": [
      "cutOutput = pd.cut(cdystonia.age, [20,40,60,80,90], True, ['young', 'middle-aged', 'old', 'ancient'])\n",
      "cdystonia['ageGroup'] = cutOutput"
     ],
     "language": "python",
     "metadata": {},
     "outputs": [],
     "prompt_number": 164
    },
    {
     "cell_type": "code",
     "collapsed": false,
     "input": [
      "cdystonia.head()"
     ],
     "language": "python",
     "metadata": {},
     "outputs": [
      {
       "metadata": {},
       "output_type": "pyout",
       "prompt_number": 165,
       "text": [
        "   patient  obs  week  site  id  treat  age sex  twstrs  treatment ageGroup\n",
        "0        1    1     0     1   1  5000U   65   F      32          1      old\n",
        "1        1    2     2     1   1  5000U   65   F      30          1      old\n",
        "2        1    3     4     1   1  5000U   65   F      24          1      old\n",
        "3        1    4     8     1   1  5000U   65   F      37          1      old\n",
        "4        1    5    12     1   1  5000U   65   F      39          1      old"
       ]
      }
     ],
     "prompt_number": 165
    },
    {
     "cell_type": "markdown",
     "metadata": {},
     "source": [
      "Data aggregation and GroupBy operations\n",
      "---------------------------------------\n",
      "\n",
      "For the following please **read Chapter 9 from the book \"Python for Data Analysis\"**. In the previous lab you saw the **GroupBy** functionality of Pandas. In fact this is one of its most powerful features. On occasion we may want to perform operations on *groups* of observations within a dataset. For example:\n",
      "\n",
      "* **Aggregation**, such as computing the sum of mean of each group, which involves applying a function to each group and returning the aggregated results.\n",
      "\n",
      "* **Slicing** the DataFrame into groups and then doing something with the resulting slices (e.g., plotting).\n",
      "\n",
      "* Apply group-wise **transformations**, such as standardization or normalization."
     ]
    },
    {
     "cell_type": "markdown",
     "metadata": {},
     "source": [
      "**Exercise:** Group the cdystonia data on the 'patient' column. You need to create a new DataFrame named cdystonia_group containing the new data."
     ]
    },
    {
     "cell_type": "code",
     "collapsed": false,
     "input": [
      "cdystonia_grouped = cdystonia.groupby('patient')"
     ],
     "language": "python",
     "metadata": {},
     "outputs": [],
     "prompt_number": 166
    },
    {
     "cell_type": "markdown",
     "metadata": {},
     "source": [
      "A common data analysis procedure is the **split-apply-combine** operation, which groups subsets of data together, applies a function to each of the groups, then recombines them into a new data table.\n",
      "\n",
      "For example, we may want to aggregate our data with some function (e.g., a summation):\n",
      "\n",
      "<img src=\"img/splitApplyCombine.png\">\n",
      "\n",
      "We can aggregate in Pandas using the aggregate (or agg, for short) method."
     ]
    },
    {
     "cell_type": "markdown",
     "metadata": {},
     "source": [
      "**Exercise:** Apply the aggregate method on cdystonia_grouped to obtain the mean value for the column 'twstrs' alone. You can use the method **np.mean** for computing the mean. Store the result in a new dataFrame named patientMeanTwstrs and print its head. The output should be:"
     ]
    },
    {
     "cell_type": "code",
     "collapsed": false,
     "input": [
      "patientMeanTwstrs = cdystonia_grouped['twstrs'].agg(np.mean)"
     ],
     "language": "python",
     "metadata": {},
     "outputs": [],
     "prompt_number": 167
    },
    {
     "cell_type": "code",
     "collapsed": false,
     "input": [
      "patientMeanTwstrs.head()"
     ],
     "language": "python",
     "metadata": {},
     "outputs": [
      {
       "metadata": {},
       "output_type": "pyout",
       "prompt_number": 168,
       "text": [
        "patient\n",
        "1          33.000000\n",
        "2          47.666667\n",
        "3          30.500000\n",
        "4          60.000000\n",
        "5          46.166667\n",
        "Name: twstrs, dtype: float64"
       ]
      }
     ],
     "prompt_number": 168
    },
    {
     "cell_type": "markdown",
     "metadata": {},
     "source": [
      "**Exercise:** Alternatively, we can **transform** the data, using  a function of our choice with the *transform* method. You are required to normalize the twstrs column of cdystonia_grouped. For that you first need to define a **lambda function** that normalizes the values of a numpy array. Before proceeding, read [this article](http://www.secnetix.de/olli/Python/lambda_functions.hawk) on lambda functions. Also notice that the normalization operation corresponds to replacing each value x in the numpy array with:\n",
      "\n",
      "(x - Mean value of array)/(Standard deviation of array)\n",
      "\n",
      "You should store the normalized data to a new variable named normalizedTWSTRS and print the head. The result should be:"
     ]
    },
    {
     "cell_type": "code",
     "collapsed": false,
     "input": [
      "mean = np.mean(cdystonia_grouped['twstrs'].agg(np.mean))\n",
      "std = np.mean(cdystonia_grouped['twstrs'].agg(np.std))\n",
      "print mean\n",
      "print std\n",
      "norm = lambda x : (x - x.mean()) / x.std()\n",
      "normalizedTWSTRS = cdystonia_grouped['twstrs'].transform(norm)"
     ],
     "language": "python",
     "metadata": {},
     "outputs": [
      {
       "output_type": "stream",
       "stream": "stdout",
       "text": [
        "41.5110091743\n",
        "6.57634407966\n"
       ]
      }
     ],
     "prompt_number": 169
    },
    {
     "cell_type": "code",
     "collapsed": false,
     "input": [
      "normalizedTWSTRS.head()"
     ],
     "language": "python",
     "metadata": {},
     "outputs": [
      {
       "metadata": {},
       "output_type": "pyout",
       "prompt_number": 170,
       "text": [
        "0   -0.181369\n",
        "1   -0.544107\n",
        "2   -1.632322\n",
        "3    0.725476\n",
        "4    1.088214\n",
        "Name: twstrs, dtype: float64"
       ]
      }
     ],
     "prompt_number": 170
    }
   ],
   "metadata": {}
  }
 ]
}