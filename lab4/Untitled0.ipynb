{
 "metadata": {
  "name": "",
  "signature": "sha256:3012615fb2f7e874741d6f1e14de8475796554ae656aaf7021bc395e46a305b3"
 },
 "nbformat": 3,
 "nbformat_minor": 0,
 "worksheets": [
  {
   "cells": [
    {
     "cell_type": "code",
     "collapsed": false,
     "input": [
      "import re\n",
      "import fileinput\n",
      "import csv\n",
      "import pandas as pd\n",
      "import numpy as np\n",
      "\n",
      "file_name = \"worldcup.txt\"\n",
      "import fileinput\n",
      " \n",
      "lines = []\n",
      "for line in fileinput.input(file_name, inplace=False):\n",
      "    line = re.sub('(\\\\|)+(\\d)+(\\\\|)+.+', \"\", line.rstrip())\n",
      "    line = re.sub('\\\\||{|}|fb|style=\\\".*\\\"', \"\", line.rstrip())\n",
      "    line = re.sub('\\\\[|\\\\]', \"\", line.rstrip())\n",
      "    line = re.sub('FIFA World Cup(\\d){4}(#\\d\\\\*)*', \"\", line.rstrip())\n",
      "    line = re.sub('#\\d\\\\^', \"\", line.rstrip())\n",
      "    line = re.sub('(^style=.+)|-|<sup>...</sup>|\\\\(|\\\\)', \"\", line.rstrip())\n",
      "    line = re.sub(' , ', \" \", line.rstrip())\n",
      "    lines.append(line)\n",
      "\n",
      "\n",
      "num_lines = len(lines)\n",
      "i = 0\n",
      "outputFile = open(\"output.csv\", 'wb')\n",
      "wr = csv.writer(outputFile);\n",
      "\n",
      "while(not re.match('[A-Z]{3}', lines[i])):\n",
      "    i += 1\n",
      "\n",
      "csv = []\n",
      "csv.append([\"country\", \"year\", \"placing\"])\n",
      "\n",
      "while(i < num_lines and re.match('[A-Z]{3}', lines[i])):\n",
      "    country = lines[i].rstrip()\n",
      "    x = [1,2,3,4]\n",
      "    for placing in x:\n",
      "        l2 = lines[i+placing]\n",
      "        if(not re.match('align=centersort dash', l2)):\n",
      "            for year in l2.split(\" \"):\n",
      "                if len(year) > 1:\n",
      "                    csv.append([country, year, str(placing)])\n",
      "    i += 5\n",
      "\n",
      "    while(i < num_lines and not re.match('[A-Z]{3}', lines[i])):\n",
      "        i += 1\n",
      "        \n",
      "wr.writerows(csv)\n"
     ],
     "language": "python",
     "metadata": {},
     "outputs": [],
     "prompt_number": 20
    },
    {
     "cell_type": "code",
     "collapsed": false,
     "input": [
      "# set options to display the full table\n",
      "pd.set_option('display.max_rows', 100)\n",
      "pd.set_option('display.max_columns', 100)\n",
      "pd.set_option('display.width', 200)\n",
      "\n",
      "# Read into pandas\n",
      "df = pd.read_csv('output.csv')\n",
      "table = df.pivot(index='country', columns='year', values='placing')\n",
      "table.fillna(\"-\", inplace=True)\n",
      "print table\n"
     ],
     "language": "python",
     "metadata": {},
     "outputs": [
      {
       "output_type": "stream",
       "stream": "stdout",
       "text": [
        "year    1930 1934 1938 1950 1954 1958 1962 1966 1970 1974 1978 1982 1986 1990 1994 1998 2002 2006 2010 2014\n",
        "country                                                                                                    \n",
        "ARG        2    -    -    -    -    -    -    -    -    -    1    -    1    2    -    -    -    -    -    2\n",
        "AUT        -    4    -    -    3    -    -    -    -    -    -    -    -    -    -    -    -    -    -    -\n",
        "BEL        -    -    -    -    -    -    -    -    -    -    -    -    4    -    -    -    -    -    -    -\n",
        "BRA        -    -    3    2    -    1    1    -    1    4    3    -    -    -    1    2    1    -    -    4\n",
        "BUL        -    -    -    -    -    -    -    -    -    -    -    -    -    -    4    -    -    -    -    -\n",
        "CHI        -    -    -    -    -    -    3    -    -    -    -    -    -    -    -    -    -    -    -    -\n",
        "CRO        -    -    -    -    -    -    -    -    -    -    -    -    -    -    -    3    -    -    -    -\n",
        "ENG        -    -    -    -    -    -    -    1    -    -    -    -    -    4    -    -    -    -    -    -\n",
        "ESP        -    -    -    4    -    -    -    -    -    -    -    -    -    -    -    -    -    -    1    -\n",
        "FRA        -    -    -    -    -    3    -    -    -    -    -    4    3    -    -    1    -    2    -    -\n",
        "GER        -    3    -    -    1    4    -    2    3    1    -    2    2    1    -    -    2    3    3    1\n",
        "HUN        -    -    2    -    2    -    -    -    -    -    -    -    -    -    -    -    -    -    -    -\n",
        "ITA        -    1    1    -    -    -    -    -    2    -    4    1    -    3    2    -    -    1    -    -\n",
        "KOR        -    -    -    -    -    -    -    -    -    -    -    -    -    -    -    -    4    -    -    -\n",
        "NED        -    -    -    -    -    -    -    -    -    2    2    -    -    -    -    4    -    -    2    3\n",
        "POL        -    -    -    -    -    -    -    -    -    3    -    3    -    -    -    -    -    -    -    -\n",
        "POR        -    -    -    -    -    -    -    3    -    -    -    -    -    -    -    -    -    4    -    -\n",
        "SWE        -    -    4    3    -    2    -    -    -    -    -    -    -    -    3    -    -    -    -    -\n",
        "TUR        -    -    -    -    -    -    -    -    -    -    -    -    -    -    -    -    3    -    -    -\n",
        "URS        -    -    -    -    -    -    -    4    -    -    -    -    -    -    -    -    -    -    -    -\n",
        "URU        1    -    -    1    4    -    -    -    4    -    -    -    -    -    -    -    -    -    4    -\n",
        "USA        3    -    -    -    -    -    -    -    -    -    -    -    -    -    -    -    -    -    -    -\n",
        "YUG        4    -    -    -    -    -    4    -    -    -    -    -    -    -    -    -    -    -    -    -\n"
       ]
      }
     ],
     "prompt_number": 42
    },
    {
     "cell_type": "code",
     "collapsed": false,
     "input": [],
     "language": "python",
     "metadata": {},
     "outputs": [],
     "prompt_number": 28
    },
    {
     "cell_type": "code",
     "collapsed": false,
     "input": [],
     "language": "python",
     "metadata": {},
     "outputs": []
    }
   ],
   "metadata": {}
  }
 ]
}