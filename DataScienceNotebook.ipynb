{
 "metadata": {
  "name": "",
  "signature": "sha256:9a02c009a4a26fd6043f958a51418f6d98d3002fa8429ef09e14aca0bc6b7ef3"
 },
 "nbformat": 3,
 "nbformat_minor": 0,
 "worksheets": [
  {
   "cells": [
    {
     "cell_type": "code",
     "collapsed": false,
     "input": [
      "import csv\n",
      "import matplotlib.pyplot as plt\n",
      "from datetime import datetime, date, time\n",
      "\n",
      "# will contain data to plot on x and y axis\n",
      "x = []\n",
      "y = []\n",
      "\n",
      "# parse bike share data from a csv file\n",
      "with open('./data/2014-1st-quarter.csv') as csvfile:\n",
      "    reader = csv.reader(csvfile, delimiter=',')\n",
      "    i = 0;\n",
      "    for row in reader:\n",
      "        if i < 50:\n",
      "            # add start and end dates to the data set\n",
      "            if not(i == 0):\n",
      "                start_date = datetime.strptime(row[1], \"%m/%d/%Y %H:%M\");\n",
      "                end_date = datetime.strptime(row[4], \"%m/%d/%Y %H:%M\");\n",
      "                \n",
      "                x.append(start_date);\n",
      "                y.append(end_date);\n",
      "            i += 1;\n",
      "        else:\n",
      "            break;\n",
      "    \n",
      "    # plot the data\n",
      "    plt.plot(x,y);\n",
      "    plt.gcf().autofmt_xdate()\n",
      "    plt.show()\n",
      "\n",
      "\n",
      "\n",
      "\n",
      "\n"
     ],
     "language": "python",
     "metadata": {},
     "outputs": [],
     "prompt_number": 53
    },
    {
     "cell_type": "code",
     "collapsed": false,
     "input": [],
     "language": "python",
     "metadata": {},
     "outputs": [],
     "prompt_number": 48
    },
    {
     "cell_type": "code",
     "collapsed": false,
     "input": [],
     "language": "python",
     "metadata": {},
     "outputs": [],
     "prompt_number": 38
    },
    {
     "cell_type": "code",
     "collapsed": false,
     "input": [],
     "language": "python",
     "metadata": {},
     "outputs": []
    },
    {
     "cell_type": "code",
     "collapsed": false,
     "input": [],
     "language": "python",
     "metadata": {},
     "outputs": []
    },
    {
     "cell_type": "code",
     "collapsed": false,
     "input": [],
     "language": "python",
     "metadata": {},
     "outputs": [],
     "prompt_number": 19
    },
    {
     "cell_type": "code",
     "collapsed": false,
     "input": [],
     "language": "python",
     "metadata": {},
     "outputs": []
    }
   ],
   "metadata": {}
  }
 ]
}