{
 "metadata": {
  "name": "",
  "signature": "sha256:91f12193028552b27f0146c6931d3d77cb98156bdba8c883343c2c7b5016e07a"
 },
 "nbformat": 3,
 "nbformat_minor": 0,
 "worksheets": [
  {
   "cells": [
    {
     "cell_type": "code",
     "collapsed": false,
     "input": [
      "import pandas as pd\n",
      "import numpy as np\n",
      "import matplotlib.pyplot as plt\n",
      "import avro.schema\n",
      "from avro.datafile import DataFileReader, DataFileWriter\n",
      "from avro.io import DatumReader, DatumWriter\n",
      "\n",
      "schema = avro.schema.parse(open(\"country.avsc\").read())\n",
      "reader = DataFileReader(open(\"countries.avro\", \"r\"), DatumReader())\n",
      "\n",
      "dict_list = []\n",
      "for user in reader:\n",
      "    dict_list = dict_list + [user]\n",
      "reader.close()\n",
      "\n",
      "df = pd.DataFrame(dict_list)\n",
      "print \"# of Countries with population > 10000000: \" + str(len(df[df.population > 10000000].index))"
     ],
     "language": "python",
     "metadata": {},
     "outputs": [
      {
       "output_type": "stream",
       "stream": "stdout",
       "text": [
        "# of Countries with population > 10000000: 36\n"
       ]
      }
     ],
     "prompt_number": 26
    },
    {
     "cell_type": "code",
     "collapsed": false,
     "input": [],
     "language": "python",
     "metadata": {},
     "outputs": [],
     "prompt_number": 17
    },
    {
     "cell_type": "code",
     "collapsed": false,
     "input": [],
     "language": "python",
     "metadata": {},
     "outputs": []
    }
   ],
   "metadata": {}
  }
 ]
}