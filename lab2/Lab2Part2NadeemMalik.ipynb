{
 "metadata": {
  "name": "",
  "signature": "sha256:4d48c83f8c6ba5417c54bf78b8df70d53d1118649a407a42b2412368a464185e"
 },
 "nbformat": 3,
 "nbformat_minor": 0,
 "worksheets": [
  {
   "cells": [
    {
     "cell_type": "heading",
     "level": 3,
     "metadata": {},
     "source": [
      "**Assignment Part 2 - Nadeem Malik**"
     ]
    },
    {
     "cell_type": "heading",
     "level": 4,
     "metadata": {},
     "source": [
      "1.) Load the provided three CSV files (players.csv, countries.csv, events.csv)"
     ]
    },
    {
     "cell_type": "code",
     "collapsed": false,
     "input": [
      "import pandas as pd\n",
      "import numpy as np\n",
      "import matplotlib.pyplot as plt\n",
      "%pylab inline\n",
      "\n",
      "countries = pd.read_csv('countries.csv')\n",
      "players = pd.read_csv('players.csv')\n",
      "events = pd.read_csv('events.csv')"
     ],
     "language": "python",
     "metadata": {},
     "outputs": [
      {
       "output_type": "stream",
       "stream": "stdout",
       "text": [
        "Populating the interactive namespace from numpy and matplotlib\n"
       ]
      }
     ],
     "prompt_number": 9
    },
    {
     "cell_type": "heading",
     "level": 4,
     "metadata": {},
     "source": [
      "**2.) Count the total number of players whose names start with a vowel ('A', 'E', 'I', 'O', 'U'). (Hint: See Extracting Substrings)**"
     ]
    },
    {
     "cell_type": "code",
     "collapsed": false,
     "input": [
      "print players['name'].str.extract('^([AEOIU])').count()"
     ],
     "language": "python",
     "metadata": {},
     "outputs": [
      {
       "output_type": "stream",
       "stream": "stdout",
       "text": [
        "84\n"
       ]
      }
     ],
     "prompt_number": 10
    },
    {
     "cell_type": "heading",
     "level": 4,
     "metadata": {},
     "source": [
      "3.) Find players from 'USA' whose names start with 'A'."
     ]
    },
    {
     "cell_type": "code",
     "collapsed": false,
     "input": [
      "join = pd.merge(players, countries, on='country_id')\n",
      "join.head(5)\n",
      "players.groupby('country_id').head()\n",
      "\n",
      "x = players[players['country_id'] =='USA'];\n",
      "\n",
      "for n in x['name']:\n",
      "    if n.startswith('A'):\n",
      "        print n\n"
     ],
     "language": "python",
     "metadata": {},
     "outputs": [
      {
       "output_type": "stream",
       "stream": "stdout",
       "text": [
        "Aaron Peirsol                           \n",
        "Adam Nelson                             \n",
        "Allyson Felix                           \n",
        "Alvin Harrison                          \n",
        "Amanda Beard                            \n",
        "Amanda Weir                             \n",
        "Amy van Dyken                           \n",
        "Angelo Taylor                           \n",
        "Anthony Ervin                           \n",
        "Antonio Pettigrew                       \n"
       ]
      }
     ],
     "prompt_number": 11
    },
    {
     "cell_type": "heading",
     "level": 4,
     "metadata": {},
     "source": [
      "4.) Construct a dataframe with two columns: country_name, num_players. Use groupby."
     ]
    },
    {
     "cell_type": "code",
     "collapsed": false,
     "input": [
      "p = players.groupby('country_id')\n",
      "x = p.size()\n",
      "y = p.groups\n",
      "countries_size = {}\n",
      "d = {}\n",
      "\n",
      "for i in y:\n",
      "    d[i] = len(y[i])\n",
      "\n",
      "cols = ['country_name', 'num_players']\n",
      "\n",
      "df = pd.DataFrame(list(d.iteritems()), columns=cols)\n",
      "print df"
     ],
     "language": "python",
     "metadata": {},
     "outputs": [
      {
       "output_type": "stream",
       "stream": "stdout",
       "text": [
        "   country_name  num_players\n",
        "0           BAR            1\n",
        "1           DEN            2\n",
        "2           USA           88\n",
        "3           DOM            1\n",
        "4           NED           13\n",
        "5           SWE            9\n",
        "6           UKR            9\n",
        "7           CRC            1\n",
        "8           GBR           12\n",
        "9           CAN            1\n",
        "10          NGR           12\n",
        "11          ISL            1\n",
        "12          ETH           12\n",
        "13          CMR            1\n",
        "14          BAH            5\n",
        "15          GRE            7\n",
        "16          GER           22\n",
        "17          ROM           10\n",
        "18          HUN            4\n",
        "19          POR            3\n",
        "20          CRO            1\n",
        "21          POL            5\n",
        "22          BUL            1\n",
        "23          ERI            1\n",
        "24          TRI            2\n",
        "25          FRA           10\n",
        "26          EST            2\n",
        "27          SVK            1\n",
        "28          LTU            2\n",
        "29          ESP            4\n",
        "30          SRI            1\n",
        "31          CHN            8\n",
        "32          BLR            7\n",
        "33          AUS           34\n",
        "34          SLO            1\n",
        "35          IRL            1\n",
        "36          CUB           12\n",
        "37          RUS           38\n",
        "38          ZIM            1\n",
        "39          FIN            1\n",
        "40          MOZ            1\n",
        "41          MAR            5\n",
        "42          JPN           16\n",
        "43          CZR            3\n",
        "44          ALG            4\n",
        "45          TUR            1\n",
        "46          RSA           10\n",
        "47          ITA           12\n",
        "48          AUT            2\n",
        "49          KSA            1\n",
        "50          JAM           18\n",
        "51          NOR            3\n",
        "52          ARG            1\n",
        "53          LAT            2\n",
        "54          KAZ            2\n",
        "55          MEX            3\n",
        "56          BRA            9\n",
        "57          KEN           13\n"
       ]
      }
     ],
     "prompt_number": 57
    },
    {
     "cell_type": "heading",
     "level": 4,
     "metadata": {},
     "source": [
      "5.) Convert the above left outer join query (last question in the SQL assignment) into pandas equivalent. See http://pandas.pydata.org/pandas-docs/stable/merging.html for details on how to do outer joins in pandas.\n"
     ]
    },
    {
     "cell_type": "code",
     "collapsed": false,
     "input": [],
     "language": "python",
     "metadata": {},
     "outputs": [],
     "prompt_number": 33
    },
    {
     "cell_type": "code",
     "collapsed": false,
     "input": [],
     "language": "python",
     "metadata": {},
     "outputs": [],
     "prompt_number": 12
    }
   ],
   "metadata": {}
  }
 ]
}