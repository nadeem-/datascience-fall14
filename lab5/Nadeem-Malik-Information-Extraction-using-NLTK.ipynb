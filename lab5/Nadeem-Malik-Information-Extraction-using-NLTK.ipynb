{
 "metadata": {
  "name": "",
  "signature": "sha256:35d8f20d4016c05b78bf04db716ed809e50bdccddbdaee286e5d4e21c85588ff"
 },
 "nbformat": 3,
 "nbformat_minor": 0,
 "worksheets": [
  {
   "cells": [
    {
     "cell_type": "markdown",
     "metadata": {},
     "source": [
      "## Part 2: Information Extraction using NLTK\n",
      "\n",
      "[NLTK](http://www.nltk.org/) is a python platform for natural language processing and information extraction. It provides easy-to-use interfaces to over 50 corpora and lexical resources such as WordNet, along with a suite of text processing libraries for classification, tokenization, stemming, tagging, parsing, and semantic reasoning, and an active discussion forum.\n",
      "\n",
      "The associated book, [Natural Language Processing with Python](http://www.nltk.org/book/) is also freely available and is a great resource both for NLP concepts and for practical examples of how to use the NLTK package.\n",
      "\n",
      "To get started, you need to install NLTK:\n",
      "    \n",
      "    sudo pip install -U nltk\n",
      "    \n",
      "After running the first command below (download()), you will be presented with a window to select which 'data' to download. For space reasons, only download 'book' (Everything used in the NLTK book). This in itself is a few hundred MB download."
     ]
    },
    {
     "cell_type": "code",
     "collapsed": false,
     "input": [
      "import nltk\n",
      "nltk.download()"
     ],
     "language": "python",
     "metadata": {},
     "outputs": [
      {
       "output_type": "stream",
       "stream": "stdout",
       "text": [
        "showing info http://nltk.github.com/nltk_data/\n"
       ]
      },
      {
       "metadata": {},
       "output_type": "pyout",
       "prompt_number": 200,
       "text": [
        "True"
       ]
      }
     ],
     "prompt_number": 200
    },
    {
     "cell_type": "code",
     "collapsed": false,
     "input": [
      "# Test it is working\n",
      "\n",
      "sentence = \"\"\"At eight o'clock on Thursday morning, Arthur didn't feel very good.\"\"\"\n",
      "tokens = nltk.word_tokenize(sentence)\n",
      "tagged = nltk.pos_tag(tokens)\n",
      "tagged"
     ],
     "language": "python",
     "metadata": {},
     "outputs": [
      {
       "metadata": {},
       "output_type": "pyout",
       "prompt_number": 201,
       "text": [
        "[('At', 'IN'),\n",
        " ('eight', 'CD'),\n",
        " (\"o'clock\", 'JJ'),\n",
        " ('on', 'IN'),\n",
        " ('Thursday', 'NNP'),\n",
        " ('morning', 'NN'),\n",
        " (',', ','),\n",
        " ('Arthur', 'NNP'),\n",
        " ('did', 'VBD'),\n",
        " (\"n't\", 'RB'),\n",
        " ('feel', 'VB'),\n",
        " ('very', 'RB'),\n",
        " ('good', 'JJ'),\n",
        " ('.', '.')]"
       ]
      }
     ],
     "prompt_number": 201
    },
    {
     "cell_type": "markdown",
     "metadata": {},
     "source": [
      "The above two commands tokenize the string, and tag each of the token with the part-of-speech. Here is a listing of tagsets that NLTK uses here (there are different tagsets used by different corpora).\n",
      "http://www.ling.upenn.edu/courses/Fall_2003/ling001/penn_treebank_pos.html"
     ]
    },
    {
     "cell_type": "markdown",
     "metadata": {},
     "source": [
      "The following set of commands extracts named entities."
     ]
    },
    {
     "cell_type": "code",
     "collapsed": false,
     "input": [
      "entities = nltk.chunk.ne_chunk(tagged)\n",
      "entities"
     ],
     "language": "python",
     "metadata": {},
     "outputs": [
      {
       "metadata": {},
       "output_type": "pyout",
       "prompt_number": 202,
       "text": [
        "Tree('S', [('At', 'IN'), ('eight', 'CD'), (\"o'clock\", 'JJ'), ('on', 'IN'), ('Thursday', 'NNP'), ('morning', 'NN'), (',', ','), Tree('PERSON', [('Arthur', 'NNP')]), ('did', 'VBD'), (\"n't\", 'RB'), ('feel', 'VB'), ('very', 'RB'), ('good', 'JJ'), ('.', '.')])"
       ]
      }
     ],
     "prompt_number": 202
    },
    {
     "cell_type": "code",
     "collapsed": false,
     "input": [
      "# Visual representation of the tree \n",
      "entities.draw()"
     ],
     "language": "python",
     "metadata": {},
     "outputs": [],
     "prompt_number": 203
    },
    {
     "cell_type": "markdown",
     "metadata": {},
     "source": [
      "###Named Entity Recognition \n",
      "\n",
      "As a somewhat more elaborate example, the following sequence of commands reads data from a file, and does NER on each of the sentences in the file. It doesn't do a very good job on this article, but in general, it seems to work quite well."
     ]
    },
    {
     "cell_type": "code",
     "collapsed": false,
     "input": [
      "with open(\"news1.html\", \"r\") as myfile:\n",
      "    data = myfile.read()   \n",
      "sentences = nltk.sent_tokenize(data)\n",
      "sentences = [nltk.word_tokenize(sent) for sent in sentences]\n",
      "sentences = [nltk.pos_tag(sent) for sent in sentences]\n",
      "print(nltk.ne_chunk(sentences[0]))"
     ],
     "language": "python",
     "metadata": {},
     "outputs": [
      {
       "output_type": "stream",
       "stream": "stdout",
       "text": [
        "(S\n",
        "  CDC/NNP\n",
        "  considers/NNS\n",
        "  adding/VBG\n",
        "  names/NNS\n",
        "  of/IN\n",
        "  health/NN\n",
        "  workers/NNS\n",
        "  monitored/VBD\n",
        "  for/IN\n",
        "  (PERSON Ebola/NNP)\n",
        "  to/TO\n",
        "  no-fly/NNP\n",
        "  list/NN\n",
        "  (PERSON Published/NNP)\n",
        "  October/NNP\n",
        "  16/CD\n",
        "  ,/,\n",
        "  2014/CD\n",
        "  FoxNews.com/JJ\n",
        "  </NN\n",
        "  http/NN\n",
        "  :/:\n",
        "  //www.foxnews.com//JJ\n",
        "  >/NN\n",
        "  (PERSON Facebook/NNP)\n",
        "  </NNP\n",
        "  #/#\n",
        "  >/:\n",
        "  558/CD\n",
        "  Twitter/NNP\n",
        "  </NNP\n",
        "  #/#\n",
        "  >/:\n",
        "  597/CD\n",
        "  livefyre/NN\n",
        "  </:\n",
        "  #/#\n",
        "  >/:\n",
        "  1623/CD\n",
        "  Email/NNP\n",
        "  </NNP\n",
        "  #/#\n",
        "  >/:\n",
        "  Print/NNP\n",
        "  </:\n",
        "  #/#\n",
        "  >/:\n",
        "  Now/NNP\n",
        "  Playing/NNP\n",
        "  CDC/NNP\n",
        "  :/:\n",
        "  Second/NNP\n",
        "  (PERSON Dallas/NNP Ebola/NNP)\n",
        "  patient/NN\n",
        "  took/VBD\n",
        "  commercial/JJ\n",
        "  flight/NN\n",
        "  Never/RB\n",
        "  autoplay/NN\n",
        "  videos/NNS\n",
        "  </:\n",
        "  #/#\n",
        "  >/:\n",
        "  The/DT\n",
        "  (ORGANIZATION Centers/NNPS)\n",
        "  for/IN\n",
        "  (PERSON Disease/NNP Control/NNP)\n",
        "  and/CC\n",
        "  Prevention/NNP\n",
        "  is/VBZ\n",
        "  considering/VBG\n",
        "  adding/VBG\n",
        "  the/DT\n",
        "  names/NNS\n",
        "  of/IN\n",
        "  healthcare/NN\n",
        "  workers/NNS\n",
        "  being/VBG\n",
        "  monitored/VBN\n",
        "  for/IN\n",
        "  the/DT\n",
        "  (ORGANIZATION Ebola/NNP)\n",
        "  virus/VBZ\n",
        "  to/TO\n",
        "  the/DT\n",
        "  government/NN\n",
        "  's/POS\n",
        "  no-fly/JJ\n",
        "  list/NN\n",
        "  ,/,\n",
        "  federal/JJ\n",
        "  officials/NNS\n",
        "  tell/VBP\n",
        "  (PERSON Fox/NNP News/NNP)\n",
        "  ./.)\n"
       ]
      }
     ],
     "prompt_number": 204
    },
    {
     "cell_type": "markdown",
     "metadata": {},
     "source": [
      "### Relation Extraction\n",
      "\n",
      "The second key task is to extract relations between entities. The following code snippet finds the relations between organizations and locations, in one of the existing datasets in NLTK. See the book webpage for more details on the regular expression pattern below: http://www.nltk.org/book/ch07.html"
     ]
    },
    {
     "cell_type": "code",
     "collapsed": false,
     "input": [
      "import re\n",
      "IN = re.compile(r'.*\\bin\\b(?!\\b.+ing)')\n",
      "for doc in nltk.corpus.ieer.parsed_docs('NYT_19980315'):\n",
      "    for rel in nltk.sem.extract_rels('ORG', 'LOC', doc, corpus='ieer', pattern = IN):\n",
      "        print(nltk.sem.rtuple(rel))"
     ],
     "language": "python",
     "metadata": {},
     "outputs": [
      {
       "output_type": "stream",
       "stream": "stdout",
       "text": [
        "[ORG: u'WHYY'] u'in' [LOC: u'Philadelphia']\n",
        "[ORG: u'McGlashan &AMP; Sarrail'] u'firm in' [LOC: u'San Mateo']\n",
        "[ORG: u'Freedom Forum'] u'in' [LOC: u'Arlington']\n",
        "[ORG: u'Brookings Institution'] u', the research group in' [LOC: u'Washington']\n",
        "[ORG: u'Idealab'] u', a self-described business incubator based in' [LOC: u'Los Angeles']\n",
        "[ORG: u'Open Text'] u', based in' [LOC: u'Waterloo']\n",
        "[ORG: u'WGBH'] u'in' [LOC: u'Boston']\n",
        "[ORG: u'Bastille Opera'] u'in' [LOC: u'Paris']\n",
        "[ORG: u'Omnicom'] u'in' [LOC: u'New York']"
       ]
      },
      {
       "output_type": "stream",
       "stream": "stdout",
       "text": [
        "\n",
        "[ORG: u'DDB Needham'] u'in' [LOC: u'New York']\n",
        "[ORG: u'Kaplan Thaler Group'] u'in' [LOC: u'New York']\n",
        "[ORG: u'BBDO South'] u'in' [LOC: u'Atlanta']\n",
        "[ORG: u'Georgia-Pacific'] u'in' [LOC: u'Atlanta']\n"
       ]
      }
     ],
     "prompt_number": 205
    },
    {
     "cell_type": "markdown",
     "metadata": {},
     "source": [
      "### Assignment \n",
      "\n",
      "**PART 2.1 (NER):** Download, say 10 recent news articles, on some topic. Write code to extract named entities from each of them. The final output should simply be a list of entities and their types, which would require understanding the structure of the output of the ne_chunk command, and traversing it to find just the named entities. \n",
      "\n",
      "Submit both the python code, and the entities you extracted. For example, for the article above, the output should be:\n",
      "\n",
      "    Ebola, PERSON\n",
      "    Published, PERSON\n",
      "    Facebook, PERSON\n",
      "    ...\n",
      "\n",
      "**Part 2.2 (Relation Extraction):** Write a few regular expressions to extract different types of PERSON-ORGANIZATION relationships (e.g., PERSON executive at ORGANIZATION) over the same dataset (the IEER Corpus). You can use the above script mostly unchanged with the changes being: definition of the pattern IN, and the arguments to `extract_rels`. \n",
      "\n",
      "It may be useful to see the text of some of the documents, e.g., the second document in the above corpus can be seen by running:\n",
      "\n",
      "    print(nltk.corpus.ieer.parsed_docs('NYT_19980315')[1].text)"
     ]
    },
    {
     "cell_type": "code",
     "collapsed": false,
     "input": [
      "from __future__ import print_function\n",
      "import glob\n",
      "import os\n",
      "import codecs\n",
      "\n",
      "NE_TYPES = ['ORGANIZATION', 'PERSON','LOCATION','DATE','TIME','MONEY','PERCENT','FACILITY','GPE']\n",
      "\n",
      "def traverse(t):\n",
      "    try:\n",
      "        t.label()\n",
      "    except AttributeError:\n",
      "        pass\n",
      "    else:\n",
      "        # Now we know that t.node is defined\n",
      "        if t.label() in NE_TYPES:\n",
      "            lbl = t.label()\n",
      "            s = \"\"\n",
      "            for l in t.leaves():\n",
      "                s = s + \" \" + l[0]\n",
      "            print(s + \", \" + lbl)\n",
      "        for child in t:\n",
      "            traverse(child)\n",
      "\n",
      "articles = []\n",
      "\n",
      "# open each article\n",
      "for file in glob.glob(\"./news/*.html\"):\n",
      "    with codecs.open(file, \"r\",\"utf-8\") as myfile:\n",
      "        articles = articles + [myfile.read()]\n",
      "\n",
      "for article in articles:\n",
      "    # tokenize and tag each word of each sentence\n",
      "    sentences = nltk.sent_tokenize(article)\n",
      "    sentences = [nltk.word_tokenize(sent) for sent in sentences]\n",
      "    sentences = [nltk.pos_tag(sent) for sent in sentences]\n",
      "    \n",
      "    # traverse the tree to print\n",
      "    i = 0\n",
      "    max_len = len(sentences)\n",
      "    while(i < max_len):\n",
      "        traverse(nltk.ne_chunk(sentences[i]))\n",
      "        i+=1\n",
      "\n"
     ],
     "language": "python",
     "metadata": {},
     "outputs": [
      {
       "output_type": "stream",
       "stream": "stdout",
       "text": [
        " Holder, GPE\n",
        " Fox News, PERSON\n",
        " Published, PERSON\n",
        " Eric Holder, PERSON\n",
        " Washington, GPE\n",
        " AP, ORGANIZATION\n",
        " Eric Holder, PERSON\n",
        " Fox News, PERSON\n",
        " James Rosen, PERSON\n",
        " Washington, GPE\n",
        " Holder, PERSON\n",
        " Fox, PERSON\n",
        " Rosen, PERSON\n",
        " Holder, PERSON\n",
        " Rosen, PERSON\n",
        " Justice Department, ORGANIZATION"
       ]
      },
      {
       "output_type": "stream",
       "stream": "stdout",
       "text": [
        "\n",
        " Rosen, PERSON\n",
        " North Korea, GPE\n",
        " Rosen, PERSON\n",
        " FBI, ORGANIZATION\n",
        " Rosen, PERSON\n",
        " Espionage, ORGANIZATION\n",
        " Holder, PERSON\n",
        " Holder, PERSON"
       ]
      },
      {
       "output_type": "stream",
       "stream": "stdout",
       "text": [
        "\n",
        " Rosen, GPE\n",
        " Washington, GPE\n",
        " Fox News, PERSON\n",
        " Fox News, PERSON"
       ]
      },
      {
       "output_type": "stream",
       "stream": "stdout",
       "text": [
        "\n",
        " Roger Ailes, PERSON\n",
        " Rosen, PERSON\n",
        " Suffice, GPE\n",
        " Rosen, PERSON"
       ]
      },
      {
       "output_type": "stream",
       "stream": "stdout",
       "text": [
        "\n",
        " Justice Department, ORGANIZATION\n",
        " Holder, PERSON\n",
        " House, ORGANIZATION\n",
        " Holder, PERSON\n",
        " Congress, ORGANIZATION\n",
        " Justice Department, ORGANIZATION\n",
        " Associated, ORGANIZATION\n",
        " Holder, GPE"
       ]
      },
      {
       "output_type": "stream",
       "stream": "stdout",
       "text": [
        "\n",
        " Obama, PERSON\n",
        " DOJ, ORGANIZATION\n",
        " Congress, ORGANIZATION"
       ]
      },
      {
       "output_type": "stream",
       "stream": "stdout",
       "text": [
        "\n",
        " Congress, ORGANIZATION\n",
        " Ebola, GPE"
       ]
      },
      {
       "output_type": "stream",
       "stream": "stdout",
       "text": [
        "\n",
        " Halloween, PERSON\n",
        " Published, PERSON\n",
        " ISIS Halloween, ORGANIZATION\n",
        " Terrorism, GPE\n",
        " Ebola, GPE\n",
        " Halloween, GPE\n",
        " BrandsOnSale, ORGANIZATION\n",
        " Ebola, PERSON\n",
        " United States, GPE\n",
        " Jonathan Weeks, PERSON"
       ]
      },
      {
       "output_type": "stream",
       "stream": "stdout",
       "text": [
        "\n",
        " CEO, ORGANIZATION\n",
        " BrandsOnSale, ORGANIZATION\n",
        " West Africa, LOCATION\n",
        " BrandsOnSale, ORGANIZATION\n",
        " Jonathan Weeks, PERSON\n",
        " Weeks, PERSON\n",
        " EMT, ORGANIZATION\n",
        " Related, GPE\n",
        " Image, ORGANIZATION\n",
        " Weeks, PERSON"
       ]
      },
      {
       "output_type": "stream",
       "stream": "stdout",
       "text": [
        "\n",
        " Ray Rice, PERSON\n",
        " Baltimore, ORGANIZATION\n",
        " Facebook, GPE\n",
        " Rice, PERSON\n",
        " Janay Palmer, PERSON\n",
        " Atlantic City, ORGANIZATION\n",
        " Mideast, GPE"
       ]
      },
      {
       "output_type": "stream",
       "stream": "stdout",
       "text": [
        "\n",
        " Fox News, PERSON\n",
        " Walid Phares, PERSON\n",
        " ISIS, ORGANIZATION\n",
        " Phares, PERSON\n",
        " Ottawa, GPE\n",
        " Canadian, GPE\n",
        " Skinny215, PERSON\n",
        " Halloween, ORGANIZATION\n",
        " Isis, PERSON\n",
        " Halloween, PERSON"
       ]
      },
      {
       "output_type": "stream",
       "stream": "stdout",
       "text": [
        "\n",
        " Halloween, PERSON\n",
        " ISIS, ORGANIZATION\n",
        " Halloween, ORGANIZATION\n",
        " ISIS, ORGANIZATION\n",
        " Related, GPE"
       ]
      },
      {
       "output_type": "stream",
       "stream": "stdout",
       "text": [
        "\n",
        " Image Babypot.jpgExpand, ORGANIZATION\n",
        " BrandsOnSale, ORGANIZATION\n",
        " ISIS, GPE\n",
        " Phares, PERSON\n",
        " Weeks, PERSON\n",
        " Halloween, ORGANIZATION\n",
        " ISIS, ORGANIZATION"
       ]
      },
      {
       "output_type": "stream",
       "stream": "stdout",
       "text": [
        "\n",
        " Weeks, PERSON\n",
        " Usama Bin Laden, PERSON\n",
        " Boston, GPE\n",
        " Twin Towers, ORGANIZATION\n",
        " Ricky, PERSON\n",
        " New York, GPE\n",
        " Senate, ORGANIZATION"
       ]
      },
      {
       "output_type": "stream",
       "stream": "stdout",
       "text": [
        "\n",
        " Senate, ORGANIZATION\n",
        " Senate, ORGANIZATION\n",
        " Jerry Moran, PERSON\n",
        " National Republican, ORGANIZATION\n",
        " Fox News, PERSON\n",
        " Obama, PERSON\n",
        " Alaska, GPE\n",
        " Iowa, GPE\n",
        " Louisiana, GPE\n",
        " Senate, ORGANIZATION\n",
        " House, ORGANIZATION\n",
        " Congress, ORGANIZATION\n",
        " Obama, ORGANIZATION"
       ]
      },
      {
       "output_type": "stream",
       "stream": "stdout",
       "text": [
        "\n",
        " Democrats, ORGANIZATION\n",
        " Justin Barasky, PERSON\n",
        " Democratic Senatorial Campaign Committee, ORGANIZATION\n",
        " Obama, GPE\n",
        " CLICK, PERSON"
       ]
      },
      {
       "output_type": "stream",
       "stream": "stdout",
       "text": [
        "\n",
        " FOR, ORGANIZATION\n",
        " SENATE, ORGANIZATION\n",
        " Montana, PERSON\n",
        " South Dakota, GPE\n",
        " West Virginia, LOCATION\n",
        " Republicans, GPE\n",
        " Alaska, PERSON\n",
        " Arkansas, GPE\n",
        " Colorado, GPE\n",
        " Iowa, GPE\n",
        " Louisiana, PERSON\n",
        " North Carolina, GPE\n",
        " New Hampshire, GPE\n",
        " Republican Scott Brown, ORGANIZATION\n",
        " Jeanne Shaheen, PERSON\n",
        " Georgia, GPE\n",
        " Kansas, PERSON\n",
        " Kentucky, PERSON\n",
        " Louisiana, GPE"
       ]
      },
      {
       "output_type": "stream",
       "stream": "stdout",
       "text": [
        "\n",
        " Georgia, GPE\n",
        " Election, ORGANIZATION\n",
        " Fox News, PERSON\n",
        " Republican, ORGANIZATION\n",
        " Democrats, ORGANIZATION\n",
        " Senate, ORGANIZATION\n",
        " Quinnipiac University, ORGANIZATION"
       ]
      },
      {
       "output_type": "stream",
       "stream": "stdout",
       "text": [
        "\n",
        " Republican Joni Ernst, ORGANIZATION\n",
        " Senate, ORGANIZATION\n",
        " Bruce Braley, PERSON\n",
        " North Carolina, GPE\n",
        " Elon University Poll, ORGANIZATION\n",
        " Democratic, ORGANIZATION\n",
        " Republican Thom Tillis, ORGANIZATION\n",
        " Democrats, ORGANIZATION\n",
        " Obama, GPE"
       ]
      },
      {
       "output_type": "stream",
       "stream": "stdout",
       "text": [
        "\n",
        " Democrats, ORGANIZATION\n",
        " Democratic, ORGANIZATION\n",
        " Dan Gerstein, PERSON\n",
        " Washington, GPE\n",
        " Georgia, GPE\n",
        " Kentucky, PERSON\n",
        " Kansas, PERSON\n",
        " Georgia, GPE"
       ]
      },
      {
       "output_type": "stream",
       "stream": "stdout",
       "text": [
        "\n",
        " Democrat Michelle Nunn, PERSON\n",
        " Republican, ORGANIZATION\n",
        " David Perdue, PERSON\n",
        " Atlanta Constitution, PERSON\n",
        " Perdue, PERSON\n",
        " Republican, ORGANIZATION\n",
        " Democrat Alison Lundergan Grimes, PERSON\n",
        " Senate, ORGANIZATION\n",
        " Mitch McConnell, PERSON\n",
        " McConnell, ORGANIZATION\n",
        " New York, GPE\n",
        " Kansas, GPE"
       ]
      },
      {
       "output_type": "stream",
       "stream": "stdout",
       "text": [
        "\n",
        " Democrat, ORGANIZATION\n",
        " Greg Orman, PERSON\n",
        " Pat Roberts, PERSON\n",
        " Orman, PERSON\n",
        " Moran, PERSON\n",
        " Fox News, PERSON\n",
        " Nate, ORGANIZATION\n",
        " Iowa, GPE"
       ]
      },
      {
       "output_type": "stream",
       "stream": "stdout",
       "text": [
        "\n",
        " Ernst, PERSON\n",
        " Braley, PERSON\n",
        " Ernst, GPE\n",
        " North Carolina, LOCATION\n",
        " Tillis, PERSON\n",
        " Hagan, PERSON\n",
        " Republican, ORGANIZATION"
       ]
      },
      {
       "output_type": "stream",
       "stream": "stdout",
       "text": [
        "\n",
        " Larry Pressler, PERSON\n",
        " Mike Rounds, PERSON\n",
        " South Dakota, GPE\n",
        " Republican, ORGANIZATION\n",
        " National Republican, ORGANIZATION\n",
        " Rounds, PERSON\n",
        " Democrat Rick Weiland, ORGANIZATION\n",
        " SurveyUSA, ORGANIZATION\n",
        " Rounds, PERSON\n",
        " Pressler, PERSON\n",
        " Weiland, GPE\n",
        " East Coast, LOCATION\n",
        " Shaheen, PERSON\n",
        " Brown, PERSON\n",
        " Massachusetts, ORGANIZATION\n",
        " Senate, ORGANIZATION\n",
        " Democrat Elizabeth Warren, ORGANIZATION\n",
        " Shaheen, PERSON\n",
        " Shaheen, PERSON"
       ]
      },
      {
       "output_type": "stream",
       "stream": "stdout",
       "text": [
        "\n",
        " State, ORGANIZATION\n",
        " Clinton, PERSON\n",
        " Bill Clinton, PERSON\n",
        " Arkansas, GPE\n",
        " Democratic, ORGANIZATION\n",
        " Mark Pryor, PERSON\n",
        " Republican Tom Cotton, ORGANIZATION\n",
        " Bill, PERSON\n",
        " Clinton, PERSON\n",
        " Grimes, PERSON\n",
        " North Carolina, GPE\n",
        " Colorado, GPE\n",
        " Louisiana, PERSON\n",
        " Barasky, PERSON\n",
        " GOP, ORGANIZATION"
       ]
      },
      {
       "output_type": "stream",
       "stream": "stdout",
       "text": [
        "\n",
        " Gitmo, GPE\n",
        " ISIS, ORGANIZATION\n",
        " Published, PERSON\n",
        " ISIS, ORGANIZATION\n",
        " Republican, ORGANIZATION\n",
        " Obama, ORGANIZATION\n",
        " Guantanamo, ORGANIZATION\n",
        " Fox News, ORGANIZATION\n",
        " Defense, ORGANIZATION\n",
        " Islamic State, ORGANIZATION\n",
        " Guantanamo, ORGANIZATION\n",
        " Ayotte, PERSON\n",
        " Guantanamo, PERSON\n",
        " Guantanamo, PERSON\n",
        " United States, GPE\n",
        " Obama, PERSON"
       ]
      },
      {
       "output_type": "stream",
       "stream": "stdout",
       "text": [
        "\n",
        " Guantanamo, ORGANIZATION\n",
        " ISIS, ORGANIZATION\n",
        " Ayotte, PERSON\n",
        " Obama, GPE\n",
        " Islamic State, ORGANIZATION\n",
        " ISIS, ORGANIZATION\n",
        " Guantanamo, ORGANIZATION\n",
        " Martin Dempsey, PERSON\n",
        " Joint Chiefs, ORGANIZATION\n",
        " Defense, ORGANIZATION"
       ]
      },
      {
       "output_type": "stream",
       "stream": "stdout",
       "text": [
        "\n",
        " Chuck Hagel, PERSON\n",
        " Guantanamo, ORGANIZATION\n",
        " Guantanamo, ORGANIZATION\n",
        " United States, GPE\n",
        " Hagel, PERSON\n",
        " House Armed Services Committee, ORGANIZATION\n",
        " Hagel, GPE\n",
        " ISIL, ORGANIZATION\n",
        " U.S., GPE"
       ]
      },
      {
       "output_type": "stream",
       "stream": "stdout",
       "text": [
        "\n",
        " U.S., GPE\n",
        " ISIL, ORGANIZATION\n",
        " McKeon, ORGANIZATION\n",
        " Islamic State, ORGANIZATION\n",
        " ISIS, ORGANIZATION\n",
        " Al Qaeda, PERSON\n",
        " Fox News, PERSON"
       ]
      },
      {
       "output_type": "stream",
       "stream": "stdout",
       "text": [
        "\n",
        " Senior, GPE\n",
        " Defense, ORGANIZATION\n",
        " Guantanamo, GPE\n",
        " Guantanamo Bay, ORGANIZATION\n",
        " ISIS, ORGANIZATION\n",
        " Guantanamo Bay, PERSON"
       ]
      },
      {
       "output_type": "stream",
       "stream": "stdout",
       "text": [
        "\n",
        " Obama, PERSON\n",
        " Congress, ORGANIZATION\n",
        " U.S., GPE\n",
        " Afghanistan, GPE\n",
        " ISIS, ORGANIZATION"
       ]
      },
      {
       "output_type": "stream",
       "stream": "stdout",
       "text": [
        "\n",
        " European, GPE\n",
        " African, GPE\n",
        " United States, GPE\n",
        " Egypt, GPE\n",
        " Tunisia, GPE\n",
        " European, GPE\n",
        " Guantanamo Bay, ORGANIZATION\n",
        " Yemen, GPE\n",
        " Eighty, GPE\n",
        " George W. Bush, PERSON\n",
        " Defense, ORGANIZATION\n",
        " Ibrahim Bin Shakaran, PERSON"
       ]
      },
      {
       "output_type": "stream",
       "stream": "stdout",
       "text": [
        "\n",
        " Guantanamo, ORGANIZATION\n",
        " Jihadist, ORGANIZATION\n",
        " Bashar Assad, PERSON\n",
        " Moroccan, GPE\n",
        " Gitmo, GPE\n",
        " Fox, PERSON\n",
        " News, ORGANIZATION\n",
        " Justin Fishel, PERSON\n",
        " Jennifer Griffin, PERSON\n",
        " Senate, ORGANIZATION"
       ]
      },
      {
       "output_type": "stream",
       "stream": "stdout",
       "text": [
        "\n",
        " Senate, ORGANIZATION\n",
        " Senate, ORGANIZATION\n",
        " Jerry Moran, PERSON\n",
        " National Republican, ORGANIZATION\n",
        " Fox News, PERSON\n",
        " Obama, PERSON\n",
        " Alaska, GPE\n",
        " Iowa, GPE\n",
        " Louisiana, GPE\n",
        " Senate, ORGANIZATION\n",
        " House, ORGANIZATION\n",
        " Congress, ORGANIZATION\n",
        " Obama, ORGANIZATION"
       ]
      },
      {
       "output_type": "stream",
       "stream": "stdout",
       "text": [
        "\n",
        " Democrats, ORGANIZATION\n",
        " Justin Barasky, PERSON\n",
        " Democratic Senatorial Campaign Committee, ORGANIZATION\n",
        " Obama, GPE\n",
        " CLICK, PERSON"
       ]
      },
      {
       "output_type": "stream",
       "stream": "stdout",
       "text": [
        "\n",
        " FOR, ORGANIZATION\n",
        " SENATE, ORGANIZATION\n",
        " Montana, PERSON\n",
        " South Dakota, GPE\n",
        " West Virginia, LOCATION\n",
        " Republicans, GPE\n",
        " Alaska, PERSON\n",
        " Arkansas, GPE\n",
        " Colorado, GPE\n",
        " Iowa, GPE\n",
        " Louisiana, PERSON\n",
        " North Carolina, GPE\n",
        " New Hampshire, GPE\n",
        " Republican Scott Brown, ORGANIZATION\n",
        " Jeanne Shaheen, PERSON\n",
        " Georgia, GPE\n",
        " Kansas, PERSON\n",
        " Kentucky, PERSON\n",
        " Louisiana, GPE"
       ]
      },
      {
       "output_type": "stream",
       "stream": "stdout",
       "text": [
        "\n",
        " Georgia, GPE\n",
        " Election, ORGANIZATION\n",
        " Fox News, PERSON\n",
        " Republican, ORGANIZATION\n",
        " Democrats, ORGANIZATION\n",
        " Senate, ORGANIZATION\n",
        " Quinnipiac University, ORGANIZATION"
       ]
      },
      {
       "output_type": "stream",
       "stream": "stdout",
       "text": [
        "\n",
        " Republican Joni Ernst, ORGANIZATION\n",
        " Senate, ORGANIZATION\n",
        " Bruce Braley, PERSON\n",
        " North Carolina, GPE\n",
        " Elon University Poll, ORGANIZATION\n",
        " Democratic, ORGANIZATION\n",
        " Republican Thom Tillis, ORGANIZATION\n",
        " Democrats, ORGANIZATION\n",
        " Obama, GPE"
       ]
      },
      {
       "output_type": "stream",
       "stream": "stdout",
       "text": [
        "\n",
        " Democrats, ORGANIZATION\n",
        " Democratic, ORGANIZATION\n",
        " Dan Gerstein, PERSON\n",
        " Washington, GPE\n",
        " Georgia, GPE\n",
        " Kentucky, PERSON\n",
        " Kansas, PERSON\n",
        " Georgia, GPE"
       ]
      },
      {
       "output_type": "stream",
       "stream": "stdout",
       "text": [
        "\n",
        " Democrat Michelle Nunn, PERSON\n",
        " Republican, ORGANIZATION\n",
        " David Perdue, PERSON\n",
        " Atlanta Constitution, PERSON\n",
        " Perdue, PERSON\n",
        " Republican, ORGANIZATION\n",
        " Democrat Alison Lundergan Grimes, PERSON\n",
        " Senate, ORGANIZATION\n",
        " Mitch McConnell, PERSON\n",
        " McConnell, ORGANIZATION\n",
        " New York, GPE\n",
        " Kansas, GPE"
       ]
      },
      {
       "output_type": "stream",
       "stream": "stdout",
       "text": [
        "\n",
        " Democrat, ORGANIZATION\n",
        " Greg Orman, PERSON\n",
        " Pat Roberts, PERSON\n",
        " Orman, PERSON\n",
        " Moran, PERSON\n",
        " Fox News, PERSON\n",
        " Nate, ORGANIZATION\n",
        " Iowa, GPE\n",
        " Ernst, PERSON\n",
        " Braley, PERSON\n",
        " Ernst, GPE"
       ]
      },
      {
       "output_type": "stream",
       "stream": "stdout",
       "text": [
        "\n",
        " North Carolina, LOCATION\n",
        " Tillis, PERSON\n",
        " Hagan, PERSON\n",
        " Republican, ORGANIZATION\n",
        " Larry Pressler, PERSON\n",
        " Mike Rounds, PERSON\n",
        " South Dakota, GPE\n",
        " Republican, ORGANIZATION\n",
        " National Republican, ORGANIZATION"
       ]
      },
      {
       "output_type": "stream",
       "stream": "stdout",
       "text": [
        "\n",
        " Rounds, PERSON\n",
        " Democrat Rick Weiland, ORGANIZATION\n",
        " SurveyUSA, ORGANIZATION\n",
        " Rounds, PERSON\n",
        " Pressler, PERSON\n",
        " Weiland, GPE\n",
        " East Coast, LOCATION\n",
        " Shaheen, PERSON\n",
        " Brown, PERSON\n",
        " Massachusetts, ORGANIZATION\n",
        " Senate, ORGANIZATION\n",
        " Democrat Elizabeth Warren, ORGANIZATION\n",
        " Shaheen, PERSON\n",
        " Shaheen, PERSON\n",
        " State, ORGANIZATION\n",
        " Clinton, PERSON\n",
        " Bill Clinton, PERSON"
       ]
      },
      {
       "output_type": "stream",
       "stream": "stdout",
       "text": [
        "\n",
        " Arkansas, GPE\n",
        " Democratic, ORGANIZATION\n",
        " Mark Pryor, PERSON\n",
        " Republican Tom Cotton, ORGANIZATION\n",
        " Bill, PERSON\n",
        " Clinton, PERSON\n",
        " Grimes, PERSON\n",
        " North Carolina, GPE\n",
        " Colorado, GPE\n",
        " Louisiana, PERSON\n",
        " Barasky, PERSON\n",
        " Kelley Beaucar Vlahos, PERSON\n",
        " Eric, PERSON"
       ]
      },
      {
       "output_type": "stream",
       "stream": "stdout",
       "text": [
        "\n",
        " Frein, GPE\n",
        " Pennsylvania, GPE\n",
        " Published, PERSON\n",
        " Pennsylvania State, FACILITY\n",
        " Eric Frein, PERSON\n",
        " Pennsylvania State Trooper, FACILITY\n",
        " Eric Frein, PERSON\n",
        " Pennsylvania, GPE\n",
        " Pennsylvania State, FACILITY\n",
        " Fox News U.S, PERSON\n",
        " Marshals, PERSON\n",
        " Frein, PERSON\n",
        " Buck Hill, PERSON\n",
        " Frein, GPE"
       ]
      },
      {
       "output_type": "stream",
       "stream": "stdout",
       "text": [
        "\n",
        " Blooming Grove, ORGANIZATION\n",
        " Trooper Bryon Dickson, PERSON\n",
        " Trooper Alex Douglass, PERSON\n",
        " Frein, PERSON\n",
        " Serbian, GPE\n",
        " FBI, ORGANIZATION\n",
        " Frein, GPE"
       ]
      },
      {
       "output_type": "stream",
       "stream": "stdout",
       "text": [
        "\n",
        " Pennsylvania, GPE\n",
        " Frein, PERSON\n",
        " Frein, PERSON\n",
        " Frein, GPE\n",
        " Frein, PERSON\n",
        " Dickson, PERSON\n",
        " Fox, PERSON"
       ]
      },
      {
       "output_type": "stream",
       "stream": "stdout",
       "text": [
        "\n",
        " News, ORGANIZATION\n",
        " Rick Leventhal, PERSON\n",
        " Associated, ORGANIZATION\n",
        " New, GPE"
       ]
      },
      {
       "output_type": "stream",
       "stream": "stdout",
       "text": [
        "\n",
        " Jersey Gov, PERSON\n",
        " Chris, PERSON\n",
        " Christie, ORGANIZATION\n",
        " Sandy, PERSON\n",
        " Published, PERSON\n",
        " Mary Pat Christie, PERSON\n",
        " New, GPE\n",
        " Jersey Gov, PERSON\n",
        " Chris, PERSON"
       ]
      },
      {
       "output_type": "stream",
       "stream": "stdout",
       "text": [
        "\n",
        " Christie, ORGANIZATION\n",
        " Jim Keady, PERSON\n",
        " Superstorm Sandy, ORGANIZATION\n",
        " AP, ORGANIZATION\n",
        " Superstorm Sandy, ORGANIZATION\n",
        " New Jersey, GPE\n",
        " New York, GPE\n",
        " New, GPE\n",
        " Jersey Gov, PERSON\n",
        " Chris, PERSON\n",
        " Christie, ORGANIZATION\n",
        " Belmar, GPE\n",
        " N.J., GPE\n",
        " Christie, GPE\n",
        " Asbury Park, ORGANIZATION\n",
        " Jim Keady, PERSON\n",
        " Christie, PERSON\n",
        " Keady, PERSON\n",
        " Job, ORGANIZATION\n",
        " Christie, PERSON"
       ]
      },
      {
       "output_type": "stream",
       "stream": "stdout",
       "text": [
        "\n",
        " Keady, PERSON\n",
        " Christie, PERSON\n",
        " Turn, GPE\n",
        " Keady, PERSON"
       ]
      },
      {
       "output_type": "stream",
       "stream": "stdout",
       "text": [
        "\n",
        " Job, ORGANIZATION\n",
        " Keady, PERSON\n",
        " Sandy, PERSON\n",
        " Christie, PERSON"
       ]
      },
      {
       "output_type": "stream",
       "stream": "stdout",
       "text": [
        "\n",
        " U.S., GPE\n",
        " Urban Development, PERSON\n",
        " Julian Castro, PERSON\n",
        " Raritan, GPE\n",
        " Union, GPE\n",
        " Andrea, PERSON"
       ]
      },
      {
       "output_type": "stream",
       "stream": "stdout",
       "text": [
        "\n",
        " Kassimatis, ORGANIZATION\n",
        " Kassimatis, PERSON\n",
        " New, GPE\n",
        " Castro, GPE"
       ]
      },
      {
       "output_type": "stream",
       "stream": "stdout",
       "text": [
        "\n",
        " New Jersey, GPE\n",
        " U.S., GPE\n",
        " Robert Menendez, PERSON\n",
        " Cory Booker, PERSON\n",
        " Frank Pallone Jr., PERSON\n",
        " Sandy, GPE\n",
        " Hurricane Sandy, PERSON\n",
        " New York, GPE\n",
        " New Jersey, GPE\n",
        " New Jersey, GPE\n",
        " New York, GPE\n",
        " Bill, PERSON\n",
        " Blasio, PERSON\n",
        " City Council, ORGANIZATION\n",
        " Melissa, PERSON\n",
        " Habitat, PERSON\n",
        " Humanity, ORGANIZATION\n",
        " Brooklyn, GPE\n",
        " New York, GPE\n",
        " Island, GPE"
       ]
      },
      {
       "output_type": "stream",
       "stream": "stdout",
       "text": [
        "\n",
        " Ocean Breeze, PERSON\n",
        " Sandy, PERSON\n",
        " Staten Island, PERSON\n",
        " New York, GPE\n",
        " Andrew, PERSON"
       ]
      },
      {
       "output_type": "stream",
       "stream": "stdout",
       "text": [
        "\n",
        " Cuomo, PERSON\n",
        " NY, ORGANIZATION\n",
        " Associated, ORGANIZATION\n",
        " NFL, ORGANIZATION"
       ]
      },
      {
       "output_type": "stream",
       "stream": "stdout",
       "text": [
        "\n",
        " Published, PERSON\n",
        " Facebook18 Twitter58 Email Print SAN FRANCISCO, PERSON\n",
        " National Football League, ORGANIZATION\n",
        " NFL, ORGANIZATION\n",
        " Marcellus Wiley, PERSON\n",
        " Jim McMahon, PERSON\n",
        " Richard Dent, PERSON\n",
        " Keith Van Horne, PERSON\n",
        " Jeremy Newberry, PERSON\n",
        " NFL, ORGANIZATION"
       ]
      },
      {
       "output_type": "stream",
       "stream": "stdout",
       "text": [
        "\n",
        " Percodan, GPE\n",
        " Percocet, PERSON\n",
        " Vicodin, PERSON\n",
        " Toradol, GPE\n",
        " Ambien, GPE\n",
        " NFL, ORGANIZATION\n",
        " Greg Aiello, PERSON\n",
        " NFL, ORGANIZATION"
       ]
      },
      {
       "output_type": "stream",
       "stream": "stdout",
       "text": [
        "\n",
        " U.S., GPE\n",
        " District, ORGANIZATION\n",
        " William Alsup, PERSON\n",
        " San Francisco, GPE\n",
        " Magic, GPE"
       ]
      },
      {
       "output_type": "stream",
       "stream": "stdout",
       "text": [
        "\n",
        " LiveScience By Tia, ORGANIZATION\n",
        " Rotterdam, PERSON\n",
        " Paul Expert, PERSON\n",
        " King, ORGANIZATION\n",
        " College London, ORGANIZATION\n",
        " Journal, ORGANIZATION"
       ]
      },
      {
       "output_type": "stream",
       "stream": "stdout",
       "text": [
        "\n",
        " Royal Society Interface, ORGANIZATION\n",
        " Expert, PERSON\n",
        " Trippy Tales, PERSON\n",
        " Psilocybin, PERSON\n",
        " Expert, PERSON"
       ]
      },
      {
       "output_type": "stream",
       "stream": "stdout",
       "text": [
        "\n",
        " Live Science, PERSON\n",
        " Expert, PERSON\n",
        " fMRI, ORGANIZATION"
       ]
      },
      {
       "output_type": "stream",
       "stream": "stdout",
       "text": [
        "\n",
        " MRI, ORGANIZATION\n",
        " Psilocybin, PERSON\n",
        " Expert, PERSON\n",
        " Drug, GPE"
       ]
      },
      {
       "output_type": "stream",
       "stream": "stdout",
       "text": [
        "\n",
        " Psilocybin, PERSON\n",
        " Expert, PERSON\n",
        " Expert, PERSON\n",
        " Past, GPE\n",
        " Expert, PERSON\n",
        " Mitul Mehta, PERSON"
       ]
      },
      {
       "output_type": "stream",
       "stream": "stdout",
       "text": [
        "\n",
        " King, ORGANIZATION\n",
        " College London, ORGANIZATION\n",
        " TechMediaNetwork, ORGANIZATION\n",
        " Dog, GPE"
       ]
      },
      {
       "output_type": "stream",
       "stream": "stdout",
       "text": [
        "\n",
        " Alabama, PERSON\n",
        " Published, PERSON\n",
        " Facebook477 Twitter105, PERSON\n",
        " Edward Melvin Henderson, PERSON\n",
        " Bo, PERSON\n",
        " Prattville, ORGANIZATION\n",
        " Ala, PERSON\n",
        " Department, GPE\n",
        " Paula Barlow, PERSON\n",
        " Edwin Henderson, PERSON\n",
        " Barlow, GPE\n",
        " Henderson, PERSON\n",
        " Bo, GPE\n",
        " Barlow, GPE\n",
        " Henderson, ORGANIZATION\n",
        " Barlow, GPE\n",
        " Henderson, PERSON\n",
        " Prattville Drug, ORGANIZATION\n",
        " Barlow, GPE"
       ]
      },
      {
       "output_type": "stream",
       "stream": "stdout",
       "text": [
        "\n",
        " Bo, PERSON\n",
        " Henderson, PERSON\n",
        " Henderson, PERSON\n",
        " Henderson, PERSON\n"
       ]
      }
     ],
     "prompt_number": 209
    },
    {
     "cell_type": "code",
     "collapsed": false,
     "input": [
      "# Extract by identifying prepositions\n",
      "# Couldn't find the proper regex (with \\IN or \\Prep) to check all prepositions so instead there are some common\n",
      "# ones in the regex\n",
      "IN = re.compile(r'.*the|of|at|about|above|across|after|against|around|before|behind|beside|between|by|for|in|like|near|of|over|through|with')\n",
      "for doc in nltk.corpus.ieer.parsed_docs('NYT_19980315'):\n",
      "    for rel in nltk.sem.extract_rels('PER', 'ORG', doc, corpus='ieer', pattern = IN):\n",
      "        print(nltk.sem.rtuple(rel))"
     ],
     "language": "python",
     "metadata": {},
     "outputs": [
      {
       "output_type": "stream",
       "stream": "stdout",
       "text": [
        "[PER: u'Bob Edwards'] u'has presided over the' [ORG: u'National Public Radio']\n",
        "[PER: u'Wertheimer'] u'_ and, by implication, the faithful' [ORG: u'NPR']\n",
        "[PER: u'Mike Godwin'] u', chief counsel for the' [ORG: u'Electronic Frontier Foundation']\n",
        "[PER: u'Cohn'] u', a partner in the' [ORG: u'McGlashan &AMP; Sarrail']\n",
        "[PER: u'Robert Mergess'] u', the co-director of the' [ORG: u'Berkeley Center for Law and Technology']\n",
        "[PER: u'Jack Balkin'] u\", director of the school's program. ``What happened at\" [ORG: u'Yale']\n",
        "[PER: u'Michael Froomkin'] u'at the' [ORG: u'University of Miami']\n",
        "[PER: u'Dan Burk'] u'at' [ORG: u'Seton Hall University']\n",
        "[PER: u'David Post'] u', co-founder of the' [ORG: u'Cyberspace Law Institute']\n",
        "[PER: u'Frank Easterbrook'] u'of the' [ORG: u'7th U.S. Circuit Court of Appeals']\n",
        "[PER: u'Jones'] u', said the seed that germinated into' [ORG: u'Qradio']\n",
        "[PER: u'William Gale'] u', an economist at the' [ORG: u'Brookings Institution']\n",
        "[PER: u'Joel Slemrod'] u', an economist at the' [ORG: u'University of Michigan']\n",
        "[PER: u'Kaufman'] u', president of the privately held' [ORG: u'TV Books LLC']\n",
        "[PER: u'Kaufman'] u'would not disclose financial details of the deal.' [ORG: u'TV Books']\n",
        "[PER: u'Lorne Michaels'] u\", the executive producer of ``Saturday Night Live.''\" [ORG: u'TV Books']\n",
        "[PER: u'James Billington'] u', the librarian of' [ORG: u'Congress']\n",
        "[PER: u'Sherry Lansing'] u', chairwoman of the' [ORG: u'Paramount Motion Picture Group']\n",
        "[PER: u'Rick Yorn'] u', his manager at the firm' [ORG: u'Addis-Wechsler &AMP; Associates']\n",
        "[PER: u'Wilson'] u\"'s only previous encounter with the\" [ORG: u'Met']\n",
        "[PER: u'Philip Glass'] u'. This was not part of the' [ORG: u'Met']\n",
        "[PER: u'John Wren'] u', the president and chief executive at' [ORG: u'Omnicom']"
       ]
      },
      {
       "output_type": "stream",
       "stream": "stdout",
       "text": [
        "\n",
        "[PER: u'Charlie Moss'] u', the chairman of' [ORG: u'Moss/Dragoti']\n",
        "[PER: u'Ken Kaess'] u', president of the' [ORG: u'DDB Needham']\n",
        "[PER: u'Lawrence'] u'withdrew from active involvement, and financial problems began to impede' [ORG: u'Wells']\n"
       ]
      }
     ],
     "prompt_number": 211
    },
    {
     "cell_type": "code",
     "collapsed": false,
     "input": [],
     "language": "python",
     "metadata": {},
     "outputs": [],
     "prompt_number": 207
    }
   ],
   "metadata": {}
  }
 ]
}