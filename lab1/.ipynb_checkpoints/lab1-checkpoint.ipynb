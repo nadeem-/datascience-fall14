{
 "metadata": {
  "name": "",
  "signature": "sha256:5aefbfab72eb1d956059872bfb88633e9180d3fdfd7e86a74e09dc27fbd4a6ef"
 },
 "nbformat": 3,
 "nbformat_minor": 0,
 "worksheets": [
  {
   "cells": [
    {
     "cell_type": "code",
     "collapsed": false,
     "input": [
      "\"\"\"\n",
      "Exercise 1: Other datasets in scikit-learn\n",
      "Scikit-learn comes with more small standard datasets.\n",
      "\n",
      "load_boston() Load and return the boston house prices dataset\n",
      "\n",
      "load_diabetes() Load and return the diabetes dataset\n",
      "\n",
      "load_digits([n_class]) Load and return the digits dataset\n",
      "\n",
      "Load the boston house prices dataset. Print the number of samples and features. List five of the dataset features and their description (Hint: look at the DESCR key in the dataset). Finally, generate a scatter plot where the X axis corresponds to one of the features you listed and the y axis to the price of the houses. Your plot should have the right title and axis labels.\n",
      "\"\"\"\n",
      "\n",
      "# The iris dataset is loaded into Scikit as an example dataset\n",
      "# Loading the iris data\n",
      "from sklearn.datasets import load_iris, load_boston\n",
      "import re\n",
      "\n",
      "iris = load_iris()\n"
     ],
     "language": "python",
     "metadata": {},
     "outputs": [],
     "prompt_number": 41
    },
    {
     "cell_type": "code",
     "collapsed": false,
     "input": [
      "# The resulting dataset is a Bunch object (https://github.com/dsc/bunch) (similar to a dictionary or a map): \n",
      "# you can see what's available using the method keys()\n",
      "iris.keys()"
     ],
     "language": "python",
     "metadata": {},
     "outputs": [
      {
       "metadata": {},
       "output_type": "pyout",
       "prompt_number": 9,
       "text": [
        "['target_names', 'data', 'target', 'DESCR', 'feature_names']"
       ]
      }
     ],
     "prompt_number": 9
    },
    {
     "cell_type": "code",
     "collapsed": false,
     "input": [
      "# Printing the number of samples and features for the dataset\n",
      "n_samples, n_features = iris.data.shape\n",
      "print 'Number of samples = ', n_samples\n",
      "print 'Number of features = ', n_features"
     ],
     "language": "python",
     "metadata": {},
     "outputs": [
      {
       "output_type": "stream",
       "stream": "stdout",
       "text": [
        "Number of smaples =  150\n",
        "Number of features =  4\n"
       ]
      }
     ],
     "prompt_number": 10
    },
    {
     "cell_type": "code",
     "collapsed": false,
     "input": [
      "# Printing the features and class (target) label for 6 data samples\n",
      "Samples = [0,50,6,100,10,20]\n",
      "for i in Samples:\n",
      "    sample_features = iris.data[i]\n",
      "    sample_class_index = iris.target[i]\n",
      "    sample_class_name = iris.target_names[sample_class_index]\n",
      "    print sample_features, sample_class_name\n"
     ],
     "language": "python",
     "metadata": {},
     "outputs": [
      {
       "output_type": "stream",
       "stream": "stdout",
       "text": [
        "[ 5.1  3.5  1.4  0.2] setosa\n",
        "[ 7.   3.2  4.7  1.4] versicolor\n",
        "[ 4.6  3.4  1.4  0.3] setosa\n",
        "[ 6.3  3.3  6.   2.5] virginica\n",
        "[ 5.4  3.7  1.5  0.2] setosa\n",
        "[ 5.4  3.4  1.7  0.2] setosa\n"
       ]
      }
     ],
     "prompt_number": 62
    },
    {
     "cell_type": "code",
     "collapsed": false,
     "input": [
      "# EXERCISE 1:\n",
      "boston = load_boston()\n",
      "print boston.keys()\n",
      "print boston.feature_names\n",
      "n_samples, n_Features = boston.data.shape\n",
      "print 'Number of samples = ', n_samples\n",
      "print 'Number of features = ', n_features\n",
      "\n",
      "print boston.data[:,5]\n",
      "\n",
      "print boston.DESCR\n",
      "\n",
      "i = 0\n",
      "\n",
      "\n",
      "for feature_name in boston.feature_names[:5]:\n",
      "    features = boston.data[i]\n",
      "    print re.findall(feature_name + \".*\", boston.DESCR)\n",
      "    print features\n",
      "    i += 1\n",
      "\n"
     ],
     "language": "python",
     "metadata": {},
     "outputs": [
      {
       "output_type": "stream",
       "stream": "stdout",
       "text": [
        "['data', 'feature_names', 'DESCR', 'target']\n",
        "['CRIM' 'ZN' 'INDUS' 'CHAS' 'NOX' 'RM' 'AGE' 'DIS' 'RAD' 'TAX' 'PTRATIO'\n",
        " 'B' 'LSTAT']\n",
        "Number of samples =  506\n",
        "Number of features =  4\n",
        "[  2.98500000e-02   0.00000000e+00   2.18000000e+00   0.00000000e+00\n",
        "   4.58000000e-01   6.43000000e+00   5.87000000e+01   6.06220000e+00\n",
        "   3.00000000e+00   2.22000000e+02   1.87000000e+01   3.94120000e+02\n",
        "   5.21000000e+00]\n",
        "Boston House Prices dataset\n",
        "\n",
        "Notes\n",
        "------\n",
        "Data Set Characteristics:  \n",
        "\n",
        "    :Number of Instances: 506 \n",
        "\n",
        "    :Number of Attributes: 13 numeric/categorical predictive\n",
        "    \n",
        "    :Median Value (attribute 14) is usually the target\n",
        "\n",
        "    :Attribute Information (in order):\n",
        "        - CRIM     per capita crime rate by town\n",
        "        - ZN       proportion of residential land zoned for lots over 25,000 sq.ft.\n",
        "        - INDUS    proportion of non-retail business acres per town\n",
        "        - CHAS     Charles River dummy variable (= 1 if tract bounds river; 0 otherwise)\n",
        "        - NOX      nitric oxides concentration (parts per 10 million)\n",
        "        - RM       average number of rooms per dwelling\n",
        "        - AGE      proportion of owner-occupied units built prior to 1940\n",
        "        - DIS      weighted distances to five Boston employment centres\n",
        "        - RAD      index of accessibility to radial highways\n",
        "        - TAX      full-value property-tax rate per $10,000\n",
        "        - PTRATIO  pupil-teacher ratio by town\n",
        "        - B        1000(Bk - 0.63)^2 where Bk is the proportion of blacks by town\n",
        "        - LSTAT    % lower status of the population\n",
        "        - MEDV     Median value of owner-occupied homes in $1000's\n",
        "\n",
        "    :Missing Attribute Values: None\n",
        "\n",
        "    :Creator: Harrison, D. and Rubinfeld, D.L.\n",
        "\n",
        "This is a copy of UCI ML housing dataset.\n",
        "http://archive.ics.uci.edu/ml/datasets/Housing\n",
        "\n",
        "\n",
        "This dataset was taken from the StatLib library which is maintained at Carnegie Mellon University.\n",
        "\n",
        "The Boston house-price data of Harrison, D. and Rubinfeld, D.L. 'Hedonic\n",
        "prices and the demand for clean air', J. Environ. Economics & Management,\n",
        "vol.5, 81-102, 1978.   Used in Belsley, Kuh & Welsch, 'Regression diagnostics\n",
        "...', Wiley, 1980.   N.B. Various transformations are used in the table on\n",
        "pages 244-261 of the latter.\n",
        "\n",
        "The Boston house-price data has been used in many machine learning papers that address regression\n",
        "problems.   \n",
        "     \n",
        "**References**\n",
        "\n",
        "   - Belsley, Kuh & Welsch, 'Regression diagnostics: Identifying Influential Data and Sources of Collinearity', Wiley, 1980. 244-261.\n",
        "   - Quinlan,R. (1993). Combining Instance-Based and Model-Based Learning. In Proceedings on the Tenth International Conference of Machine Learning, 236-243, University of Massachusetts, Amherst. Morgan Kaufmann.\n",
        "   - many more! (see http://archive.ics.uci.edu/ml/datasets/Housing)\n",
        "\n",
        "['CRIM     per capita crime rate by town']\n",
        "[  6.32000000e-03   1.80000000e+01   2.31000000e+00   0.00000000e+00\n",
        "   5.38000000e-01   6.57500000e+00   6.52000000e+01   4.09000000e+00\n",
        "   1.00000000e+00   2.96000000e+02   1.53000000e+01   3.96900000e+02\n",
        "   4.98000000e+00]\n",
        "['ZN       proportion of residential land zoned for lots over 25,000 sq.ft.']\n",
        "[  2.73100000e-02   0.00000000e+00   7.07000000e+00   0.00000000e+00\n",
        "   4.69000000e-01   6.42100000e+00   7.89000000e+01   4.96710000e+00\n",
        "   2.00000000e+00   2.42000000e+02   1.78000000e+01   3.96900000e+02\n",
        "   9.14000000e+00]\n",
        "['INDUS    proportion of non-retail business acres per town']\n",
        "[  2.72900000e-02   0.00000000e+00   7.07000000e+00   0.00000000e+00\n",
        "   4.69000000e-01   7.18500000e+00   6.11000000e+01   4.96710000e+00\n",
        "   2.00000000e+00   2.42000000e+02   1.78000000e+01   3.92830000e+02\n",
        "   4.03000000e+00]\n",
        "['CHAS     Charles River dummy variable (= 1 if tract bounds river; 0 otherwise)']\n",
        "[  3.23700000e-02   0.00000000e+00   2.18000000e+00   0.00000000e+00\n",
        "   4.58000000e-01   6.99800000e+00   4.58000000e+01   6.06220000e+00\n",
        "   3.00000000e+00   2.22000000e+02   1.87000000e+01   3.94630000e+02\n",
        "   2.94000000e+00]\n",
        "['NOX      nitric oxides concentration (parts per 10 million)']\n",
        "[  6.90500000e-02   0.00000000e+00   2.18000000e+00   0.00000000e+00\n",
        "   4.58000000e-01   7.14700000e+00   5.42000000e+01   6.06220000e+00\n",
        "   3.00000000e+00   2.22000000e+02   1.87000000e+01   3.96900000e+02\n",
        "   5.33000000e+00]\n"
       ]
      }
     ],
     "prompt_number": 70
    },
    {
     "cell_type": "code",
     "collapsed": false,
     "input": [],
     "language": "python",
     "metadata": {},
     "outputs": [],
     "prompt_number": 60
    },
    {
     "cell_type": "code",
     "collapsed": false,
     "input": [],
     "language": "python",
     "metadata": {},
     "outputs": [],
     "prompt_number": 60
    },
    {
     "cell_type": "code",
     "collapsed": false,
     "input": [],
     "language": "python",
     "metadata": {},
     "outputs": []
    }
   ],
   "metadata": {}
  }
 ]
}