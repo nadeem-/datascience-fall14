{
 "metadata": {
  "name": "",
  "signature": "sha256:584a52a71d064d6cd045de3b7288775d46fcf4da950d2458e475518d697aed50"
 },
 "nbformat": 3,
 "nbformat_minor": 0,
 "worksheets": [
  {
   "cells": [
    {
     "cell_type": "markdown",
     "metadata": {},
     "source": [
      "#Lab1: Basic statistics and Machine learning\n",
      "\n",
      "---\n",
      "\n",
      "#Scikit: Machine learning in python\n",
      "[Scikit-learn](<http://scikit-learn.org/stable/>) is a machine learning library for Python. It features various classification, regression and clustering algorithms. In this lab we will go over these algorithms and how they can be applied to different datasets. \n",
      "\n",
      "Two packages used closely togehter with scikit-learn are **numpy** and **matplotlib**. \n",
      "\n",
      "##Numpy\n",
      "[NumPy](http://www.numpy.org/) is the fundamental package for scientific computing with Python. It contains among other things:\n",
      "   * a powerful N-dimensional array object\n",
      "   * sophisticated (broadcasting) functions\n",
      "   * tools for integrating C/C++ and Fortran code\n",
      "   * useful linear algebra, Fourier transform, and random number capabilities\n",
      "\n",
      "Manipulating numpy arrays is an important part of doing machine learning in python. Below we show a few basic things you can do with numpy arrays; here is [a tutorial](http://wiki.scipy.org/Tentative_NumPy_Tutorial) that goes into more details."
     ]
    },
    {
     "cell_type": "code",
     "collapsed": false,
     "input": [
      "import numpy as np\n",
      "\n",
      "# Generate a random array\n",
      "X = np.random.random((2,6)) # a 2 x 6 array\n",
      "\n",
      "print X"
     ],
     "language": "python",
     "metadata": {},
     "outputs": [
      {
       "output_type": "stream",
       "stream": "stdout",
       "text": [
        "[[ 0.76676379  0.73827645  0.36855538  0.6393138   0.05124024  0.28865444]\n",
        " [ 0.77534325  0.728145    0.33990436  0.19818998  0.95810986  0.59319365]]\n"
       ]
      }
     ],
     "prompt_number": 54
    },
    {
     "cell_type": "code",
     "collapsed": false,
     "input": [
      "# Accessing elements\n",
      "\n",
      "# get a single element\n",
      "print X[0,0]"
     ],
     "language": "python",
     "metadata": {},
     "outputs": [
      {
       "output_type": "stream",
       "stream": "stdout",
       "text": [
        "0.766763789194\n"
       ]
      }
     ],
     "prompt_number": 55
    },
    {
     "cell_type": "code",
     "collapsed": false,
     "input": [
      "# get a single row\n",
      "print X[1]"
     ],
     "language": "python",
     "metadata": {},
     "outputs": [
      {
       "output_type": "stream",
       "stream": "stdout",
       "text": [
        "[ 0.77534325  0.728145    0.33990436  0.19818998  0.95810986  0.59319365]\n"
       ]
      }
     ],
     "prompt_number": 56
    },
    {
     "cell_type": "code",
     "collapsed": false,
     "input": [
      "# get a column\n",
      "print X[:, 1]"
     ],
     "language": "python",
     "metadata": {},
     "outputs": [
      {
       "output_type": "stream",
       "stream": "stdout",
       "text": [
        "[ 0.73827645  0.728145  ]\n"
       ]
      }
     ],
     "prompt_number": 57
    },
    {
     "cell_type": "code",
     "collapsed": false,
     "input": [
      "# Transpose of an array\n",
      "print X.T"
     ],
     "language": "python",
     "metadata": {},
     "outputs": [
      {
       "output_type": "stream",
       "stream": "stdout",
       "text": [
        "[[ 0.76676379  0.77534325]\n",
        " [ 0.73827645  0.728145  ]\n",
        " [ 0.36855538  0.33990436]\n",
        " [ 0.6393138   0.19818998]\n",
        " [ 0.05124024  0.95810986]\n",
        " [ 0.28865444  0.59319365]]\n"
       ]
      }
     ],
     "prompt_number": 58
    },
    {
     "cell_type": "markdown",
     "metadata": {},
     "source": [
      "##Matplotlib\n",
      "Another important part of machine learning is visualization of data. The most common tool for this in Python is *matplotlib*. You have seen this in lab0 but we will go over the basic operations again."
     ]
    },
    {
     "cell_type": "code",
     "collapsed": false,
     "input": [
      "# Start pylab inline mode, so figures will appear in the notebook\n",
      "\n",
      "%pylab inline"
     ],
     "language": "python",
     "metadata": {},
     "outputs": [
      {
       "output_type": "stream",
       "stream": "stdout",
       "text": [
        "Populating the interactive namespace from numpy and matplotlib\n"
       ]
      }
     ],
     "prompt_number": 59
    },
    {
     "cell_type": "code",
     "collapsed": false,
     "input": [
      "import matplotlib.pyplot as plt"
     ],
     "language": "python",
     "metadata": {},
     "outputs": [],
     "prompt_number": 60
    },
    {
     "cell_type": "code",
     "collapsed": false,
     "input": [
      "# plot a line\n",
      "# np.linspace() creates a 1-dimensional array containing, in this case, 200 evenly spaced numbers from 0 to 5\n",
      "# np.linspace() is very commonly used to create the x-axis data points for plotting as shown below\n",
      "\n",
      "X = np.linspace(0,5,200)\n",
      "y = np.sin(X) \n",
      "plt.plot(X, y)"
     ],
     "language": "python",
     "metadata": {},
     "outputs": [
      {
       "metadata": {},
       "output_type": "pyout",
       "prompt_number": 61,
       "text": [
        "[<matplotlib.lines.Line2D at 0x116148c90>]"
       ]
      },
      {
       "metadata": {},
       "output_type": "display_data",
       "png": "[encoded data removed]",
       "text": [
        "<matplotlib.figure.Figure at 0x116f20f90>"
       ]
      }
     ],
     "prompt_number": 61
    },
    {
     "cell_type": "code",
     "collapsed": false,
     "input": [
      "# scatter-plot points\n",
      "# np.random.normal will create an array containing 300 numbers drawn from the normal distribution\n",
      "\n",
      "X = np.random.normal(size = 300)\n",
      "y = np.random.normal(size = 300)\n",
      "plt.scatter(X,y)"
     ],
     "language": "python",
     "metadata": {},
     "outputs": [
      {
       "metadata": {},
       "output_type": "pyout",
       "prompt_number": 62,
       "text": [
        "<matplotlib.collections.PathCollection at 0x1162033d0>"
       ]
      },
      {
       "metadata": {},
       "output_type": "display_data",
       "png": "[encoded data removed]",
       "text": [
        "<matplotlib.figure.Figure at 0x116cc19d0>"
       ]
      }
     ],
     "prompt_number": 62
    },
    {
     "cell_type": "code",
     "collapsed": false,
     "input": [
      "# showing images\n",
      "# np.newaxis() simply adds another dimension to the data of size.\n",
      "\n",
      "X = np.linspace(1,12,100)\n",
      "y = X[:, np.newaxis]\n",
      "\n",
      "im = y * np.sin(X) * np.cos(y)\n",
      "\n",
      "# imshow - the origin is at the top-left\n",
      "plt.imshow(im)"
     ],
     "language": "python",
     "metadata": {},
     "outputs": [
      {
       "metadata": {},
       "output_type": "pyout",
       "prompt_number": 63,
       "text": [
        "<matplotlib.image.AxesImage at 0x1168b0450>"
       ]
      },
      {
       "metadata": {},
       "output_type": "display_data",
       "png": "[encoded data removed]",
       "text": [
        "<matplotlib.figure.Figure at 0x116cca3d0>"
       ]
      }
     ],
     "prompt_number": 63
    },
    {
     "cell_type": "code",
     "collapsed": false,
     "input": [
      "# contour plot - the origin is at the bottom-left\n",
      "plt.contour(im)"
     ],
     "language": "python",
     "metadata": {},
     "outputs": [
      {
       "metadata": {},
       "output_type": "pyout",
       "prompt_number": 64,
       "text": [
        "<matplotlib.contour.QuadContourSet instance at 0x116961e60>"
       ]
      },
      {
       "metadata": {},
       "output_type": "display_data",
       "png": "[encoded data removed]",
       "text": [
        "<matplotlib.figure.Figure at 0x116e4ad90>"
       ]
      }
     ],
     "prompt_number": 64
    },
    {
     "cell_type": "markdown",
     "metadata": {},
     "source": [
      "#Goal of Lab1\n",
      "By the end of this section you should:\n",
      "   * Know what sort of tasks qualify as Machine Learning problems.\n",
      "   * See some examples of machine learning algorithms.\n",
      "   * Know the basics of creating and manipulating numpy arrays. \n",
      "   * Know the basics of scatter plots in matplotlib. "
     ]
    },
    {
     "cell_type": "markdown",
     "metadata": {},
     "source": [
      "#Part 1: Loading data\n",
      "\n",
      "## The Iris dataset\n",
      "We will take a look at the iris dataset provided by scikit-learn. The data consists of measurements of three different species of irises: (i) Iris Setosa, (ii) Iris Versicolour, and (iii) Iris Virginica.\n",
      "\n",
      "The data is stored in a CSV file and contains the following features (sepal and petal are both parts of a flower):\n",
      "   1. sepal length in cm\n",
      "   2. sepal width in cm\n",
      "   3. petal length in cm\n",
      "   4. petal width in cm"
     ]
    },
    {
     "cell_type": "code",
     "collapsed": false,
     "input": [
      "# The iris dataset is loaded into Scikit as an example dataset\n",
      "# Loading the iris data\n",
      "from sklearn.datasets import load_iris\n",
      "iris = load_iris()"
     ],
     "language": "python",
     "metadata": {},
     "outputs": [],
     "prompt_number": 65
    },
    {
     "cell_type": "code",
     "collapsed": false,
     "input": [
      "# The resulting dataset is a Bunch object (https://github.com/dsc/bunch) (similar to a dictionary or a map): \n",
      "# you can see what's available using the method keys()\n",
      "iris.keys()"
     ],
     "language": "python",
     "metadata": {},
     "outputs": [
      {
       "metadata": {},
       "output_type": "pyout",
       "prompt_number": 66,
       "text": [
        "['target_names', 'data', 'target', 'DESCR', 'feature_names']"
       ]
      }
     ],
     "prompt_number": 66
    },
    {
     "cell_type": "code",
     "collapsed": false,
     "input": [
      "# Printing the number of samples and features for the dataset\n",
      "n_samples, n_features = iris.data.shape\n",
      "print 'Number of samples = ', n_samples\n",
      "print 'Number of features = ', n_features"
     ],
     "language": "python",
     "metadata": {},
     "outputs": [
      {
       "output_type": "stream",
       "stream": "stdout",
       "text": [
        "Number of samples =  150\n",
        "Number of features =  4\n"
       ]
      }
     ],
     "prompt_number": 67
    },
    {
     "cell_type": "code",
     "collapsed": false,
     "input": [
      "# Printing the features and class (target) label for 6 data samples\n",
      "Samples = [0,50,6,100,10,20]\n",
      "for i in Samples:\n",
      "    sample_features = iris.data[i]\n",
      "    sample_class_index = iris.target[i]\n",
      "    sample_class_name = iris.target_names[sample_class_index]\n",
      "    print sample_features, sample_class_name"
     ],
     "language": "python",
     "metadata": {},
     "outputs": [
      {
       "output_type": "stream",
       "stream": "stdout",
       "text": [
        "[ 5.1  3.5  1.4  0.2] setosa\n",
        "[ 7.   3.2  4.7  1.4] versicolor\n",
        "[ 4.6  3.4  1.4  0.3] setosa\n",
        "[ 6.3  3.3  6.   2.5] virginica\n",
        "[ 5.4  3.7  1.5  0.2] setosa\n",
        "[ 5.4  3.4  1.7  0.2] setosa\n"
       ]
      }
     ],
     "prompt_number": 68
    },
    {
     "cell_type": "markdown",
     "metadata": {},
     "source": [
      "## Exercise 1: Other datasets in scikit-learn\n",
      "Scikit-learn comes with more small standard datasets. \n",
      "\n",
      "**load_boston()** Load and return the boston house prices dataset\n",
      "\n",
      "**load_diabetes()** Load and return the diabetes dataset\n",
      "\n",
      "**load_digits([n_class])** Load and return the digits dataset\n",
      "\n",
      "Load the boston house prices dataset. Print the number of samples and features. List five of the dataset features and their description (Hint: look at the DESCR key in the dataset). Finally, generate a scatter plot where the X axis corresponds to one of the features you listed and the y axis to the price of the houses. Your plot should have the right title and axis labels. "
     ]
    },
    {
     "cell_type": "code",
     "collapsed": false,
     "input": [
      "from sklearn.datasets import load_boston\n",
      "import re\n",
      "\n",
      "# EXERCISE 1\n",
      "boston = load_boston()\n",
      "\n",
      "n_samples, n_Features = boston.data.shape\n",
      "print 'Number of samples = ', n_samples\n",
      "print 'Number of features = ', n_features\n",
      "\n",
      "i = 5\n",
      "for feature_name in boston.feature_names[5:10]:\n",
      "    features = boston.data[:,i]\n",
      "    print re.findall(feature_name + \".*\", boston.DESCR)\n",
      "    print features\n",
      "    i += 1\n",
      "\n",
      "feature_name = boston.feature_names[6]\n",
      "age_features = boston.data[:,6]\n",
      "\n",
      "# Create a scatter plot of proportion of owner-occupied units\n",
      "# built prior to 1940 (age) VS house prices\n",
      "plt.scatter(features, boston.target,  color='black')\n",
      "plt.title(\"House age proportion vs. House prices\")\n",
      "plt.xlabel('Proportion of owner-occupied units built prior to 1940 (age)')\n",
      "plt.ylabel('House prices')\n",
      "plt.show()\n",
      "\n",
      "\n",
      "\n",
      "\n",
      "\n",
      "\n"
     ],
     "language": "python",
     "metadata": {},
     "outputs": [
      {
       "output_type": "stream",
       "stream": "stdout",
       "text": [
        "Number of samples =  506\n",
        "Number of features =  4\n",
        "['RM       average number of rooms per dwelling']\n",
        "[ 6.575  6.421  7.185  6.998  7.147  6.43   6.012  6.172  5.631  6.004\n",
        "  6.377  6.009  5.889  5.949  6.096  5.834  5.935  5.99   5.456  5.727\n",
        "  5.57   5.965  6.142  5.813  5.924  5.599  5.813  6.047  6.495  6.674\n",
        "  5.713  6.072  5.95   5.701  6.096  5.933  5.841  5.85   5.966  6.595\n",
        "  7.024  6.77   6.169  6.211  6.069  5.682  5.786  6.03   5.399  5.602\n",
        "  5.963  6.115  6.511  5.998  5.888  7.249  6.383  6.816  6.145  5.927\n",
        "  5.741  5.966  6.456  6.762  7.104  6.29   5.787  5.878  5.594  5.885\n",
        "  6.417  5.961  6.065  6.245  6.273  6.286  6.279  6.14   6.232  5.874\n",
        "  6.727  6.619  6.302  6.167  6.389  6.63   6.015  6.121  7.007  7.079\n",
        "  6.417  6.405  6.442  6.211  6.249  6.625  6.163  8.069  7.82   7.416\n",
        "  6.727  6.781  6.405  6.137  6.167  5.851  5.836  6.127  6.474  6.229\n",
        "  6.195  6.715  5.913  6.092  6.254  5.928  6.176  6.021  5.872  5.731\n",
        "  5.87   6.004  5.961  5.856  5.879  5.986  5.613  5.693  6.431  5.637\n",
        "  6.458  6.326  6.372  5.822  5.757  6.335  5.942  6.454  5.857  6.151\n",
        "  6.174  5.019  5.403  5.468  4.903  6.13   5.628  4.926  5.186  5.597\n",
        "  6.122  5.404  5.012  5.709  6.129  6.152  5.272  6.943  6.066  6.51   6.25\n",
        "  7.489  7.802  8.375  5.854  6.101  7.929  5.877  6.319  6.402  5.875\n",
        "  5.88   5.572  6.416  5.859  6.546  6.02   6.315  6.86   6.98   7.765\n",
        "  6.144  7.155  6.563  5.604  6.153  7.831  6.782  6.556  7.185  6.951\n",
        "  6.739  7.178  6.8    6.604  7.875  7.287  7.107  7.274  6.975  7.135\n",
        "  6.162  7.61   7.853  8.034  5.891  6.326  5.783  6.064  5.344  5.96\n",
        "  5.404  5.807  6.375  5.412  6.182  5.888  6.642  5.951  6.373  6.951\n",
        "  6.164  6.879  6.618  8.266  8.725  8.04   7.163  7.686  6.552  5.981\n",
        "  7.412  8.337  8.247  6.726  6.086  6.631  7.358  6.481  6.606  6.897\n",
        "  6.095  6.358  6.393  5.593  5.605  6.108  6.226  6.433  6.718  6.487\n",
        "  6.438  6.957  8.259  6.108  5.876  7.454  8.704  7.333  6.842  7.203\n",
        "  7.52   8.398  7.327  7.206  5.56   7.014  8.297  7.47   5.92   5.856\n",
        "  6.24   6.538  7.691  6.758  6.854  7.267  6.826  6.482  6.812  7.82\n",
        "  6.968  7.645  7.923  7.088  6.453  6.23   6.209  6.315  6.565  6.861\n",
        "  7.148  6.63   6.127  6.009  6.678  6.549  5.79   6.345  7.041  6.871\n",
        "  6.59   6.495  6.982  7.236  6.616  7.42   6.849  6.635  5.972  4.973\n",
        "  6.122  6.023  6.266  6.567  5.705  5.914  5.782  6.382  6.113  6.426\n",
        "  6.376  6.041  5.708  6.415  6.431  6.312  6.083  5.868  6.333  6.144\n",
        "  5.706  6.031  6.316  6.31   6.037  5.869  5.895  6.059  5.985  5.968\n",
        "  7.241  6.54   6.696  6.874  6.014  5.898  6.516  6.635  6.939  6.49\n",
        "  6.579  5.884  6.728  5.663  5.936  6.212  6.395  6.127  6.112  6.398\n",
        "  6.251  5.362  5.803  8.78   3.561  4.963  3.863  4.97   6.683  7.016\n",
        "  6.216  5.875  4.906  4.138  7.313  6.649  6.794  6.38   6.223  6.968\n",
        "  6.545  5.536  5.52   4.368  5.277  4.652  5.     4.88   5.39   5.713\n",
        "  6.051  5.036  6.193  5.887  6.471  6.405  5.747  5.453  5.852  5.987\n",
        "  6.343  6.404  5.349  5.531  5.683  4.138  5.608  5.617  6.852  5.757\n",
        "  6.657  4.628  5.155  4.519  6.434  6.782  5.304  5.957  6.824  6.411\n",
        "  6.006  5.648  6.103  5.565  5.896  5.837  6.202  6.193  6.38   6.348\n",
        "  6.833  6.425  6.436  6.208  6.629  6.461  6.152  5.935  5.627  5.818\n",
        "  6.406  6.219  6.485  5.854  6.459  6.341  6.251  6.185  6.417  6.749\n",
        "  6.655  6.297  7.393  6.728  6.525  5.976  5.936  6.301  6.081  6.701\n",
        "  6.376  6.317  6.513  6.209  5.759  5.952  6.003  5.926  5.713  6.167\n",
        "  6.229  6.437  6.98   5.427  6.162  6.484  5.304  6.185  6.229  6.242\n",
        "  6.75   7.061  5.762  5.871  6.312  6.114  5.905  5.454  5.414  5.093\n",
        "  5.983  5.983  5.707  5.926  5.67   5.39   5.794  6.019  5.569  6.027\n",
        "  6.593  6.12   6.976  6.794  6.03 ]\n",
        "['AGE      proportion of owner-occupied units built prior to 1940']\n",
        "[  65.2   78.9   61.1   45.8   54.2   58.7   66.6   96.1  100.    85.9\n",
        "   94.3   82.9   39.    61.8   84.5   56.5   29.3   81.7   36.6   69.5\n",
        "   98.1   89.2   91.7  100.    94.1   85.7   90.3   88.8   94.4   87.3\n",
        "   94.1  100.    82.    95.    96.9   68.2   61.4   41.5   30.2   21.8\n",
        "   15.8    2.9    6.6    6.5   40.    33.8   33.3   85.5   95.3   62.\n",
        "   45.7   63.    21.1   21.4   47.6   21.9   35.7   40.5   29.2   47.2\n",
        "   66.2   93.4   67.8   43.4   59.5   17.8   31.1   21.4   36.8   33.\n",
        "    6.6   17.5    7.8    6.2    6.    45.    74.5   45.8   53.7   36.6\n",
        "   33.5   70.4   32.2   46.7   48.    56.1   45.1   56.8   86.3   63.1\n",
        "   66.1   73.9   53.6   28.9   77.3   57.8   69.6   76.    36.9   62.5\n",
        "   79.9   71.3   85.4   87.4   90.    96.7   91.9   85.2   97.1   91.2\n",
        "   54.4   81.6   92.9   95.4   84.2   88.2   72.5   82.6   73.1   65.2\n",
        "   69.7   84.1   92.9   97.    95.8   88.4   95.6   96.    98.8   94.7\n",
        "   98.9   97.7   97.9   95.4   98.4   98.2   93.5   98.4   98.2   97.9\n",
        "   93.6  100.   100.   100.    97.8  100.   100.    95.7   93.8   94.9\n",
        "   97.3  100.    88.    98.5   96.    82.6   94.    97.4  100.   100.\n",
        "   92.6   90.8   98.2   93.9   91.8   93.    96.2   79.2   96.1   95.2\n",
        "   94.6   97.3   88.5   84.1   68.7   33.1   47.2   73.4   74.4   58.4\n",
        "   83.3   62.2   92.2   95.6   89.8   68.8   53.6   41.1   29.1   38.9\n",
        "   21.5   30.8   26.3    9.9   18.8   32.    34.1   36.6   38.3   15.3\n",
        "   13.9   38.4   15.7   33.2   31.9   22.3   52.5   72.7   59.1  100.\n",
        "   92.1   88.6   53.8   32.3    9.8   42.4   56.    85.1   93.8   92.4\n",
        "   88.5   91.3   77.7   80.8   78.3   83.    86.5   79.9   17.    21.4\n",
        "   68.1   76.9   73.3   70.4   66.5   61.5   76.5   71.6   18.5   42.2\n",
        "   54.3   65.1   52.9    7.8   76.5   70.2   34.9   79.2   49.1   17.5\n",
        "   13.     8.9    6.8    8.4   32.    19.1   34.2   86.9  100.   100.\n",
        "   81.8   89.4   91.5   94.5   91.6   62.8   84.6   67.    52.6   61.5\n",
        "   42.1   16.3   58.7   51.8   32.9   42.8   49.    27.6   32.1   32.2\n",
        "   64.5   37.2   49.7   24.8   20.8   31.9   31.5   31.3   45.6   22.9\n",
        "   27.9   27.7   23.4   18.4   42.3   31.1   51.    58.    20.1   10.\n",
        "   47.4   40.4   18.4   17.7   41.1   58.1   71.9   70.3   82.5   76.7\n",
        "   37.8   52.8   90.4   82.8   87.3   77.7   83.2   71.7   67.2   58.8\n",
        "   52.3   54.3   49.9   74.3   40.1   14.7   28.9   43.7   25.8   17.2\n",
        "   32.2   28.4   23.3   38.1   38.5   34.5   46.3   59.6   37.3   45.4\n",
        "   58.5   49.3   59.7   56.4   28.1   48.5   52.3   27.7   29.7   34.5\n",
        "   44.4   35.9   18.5   36.1   21.9   19.5   97.4   91.    83.4   81.3\n",
        "   88.    91.1   96.2   89.    82.9   87.9   91.4  100.   100.    96.8\n",
        "   97.5  100.    89.6  100.   100.    97.9   93.3   98.8   96.2  100.\n",
        "   91.9   99.1  100.   100.    91.2   98.1  100.    89.5  100.    98.9\n",
        "   97.    82.5   97.    92.6   94.7   98.8   96.    98.9  100.    77.8\n",
        "  100.   100.   100.    96.    85.4  100.   100.   100.    97.9  100.   100.\n",
        "  100.   100.   100.   100.   100.    90.8   89.1  100.    76.5  100.\n",
        "   95.3   87.6   85.1   70.6   95.4   59.7   78.7   78.1   95.6   86.1\n",
        "   94.3   74.8   87.9   95.    94.6   93.3  100.    87.9   93.9   92.4\n",
        "   97.2  100.   100.    96.6   94.8   96.4   96.6   98.7   98.3   92.6\n",
        "   98.2   91.8   99.3   94.1   86.5   87.9   80.3   83.7   84.4   90.\n",
        "   88.4   83.    89.9   65.4   48.2   84.7   94.5   71.    56.7   84.\n",
        "   90.7   75.    67.6   95.4   97.4   93.6   97.3   96.7   88.    64.7\n",
        "   74.9   77.    40.3   41.9   51.9   79.8   53.2   92.7   98.3   98.\n",
        "   98.8   83.5   54.    42.6   28.8   72.9   70.6   65.3   73.5   79.7\n",
        "   69.1   76.7   91.    89.3   80.8]\n",
        "['DIS      weighted distances to five Boston employment centres']\n",
        "[  4.09     4.9671   4.9671   6.0622   6.0622   6.0622   5.5605   5.9505\n",
        "   6.0821   6.5921   6.3467   6.2267   5.4509   4.7075   4.4619   4.4986\n",
        "   4.4986   4.2579   3.7965   3.7965   3.7979   4.0123   3.9769   4.0952\n",
        "   4.3996   4.4546   4.682    4.4534   4.4547   4.239    4.233    4.175\n",
        "   3.99     3.7872   3.7598   3.3603   3.3779   3.9342   3.8473   5.4011\n",
        "   5.4011   5.7209   5.7209   5.7209   5.7209   5.1004   5.1004   5.6894\n",
        "   5.87     6.0877   6.8147   6.8147   6.8147   6.8147   7.3197   8.6966\n",
        "   9.1876   8.3248   7.8148   6.932    7.2254   6.8185   7.2255   7.9809\n",
        "   9.2229   6.6115   6.6115   6.498    6.498    6.498    5.2873   5.2873\n",
        "   5.2873   5.2873   4.2515   4.5026   4.0522   4.0905   5.0141   4.5026\n",
        "   5.4007   5.4007   5.4007   5.4007   4.7794   4.4377   4.4272   3.7476\n",
        "   3.4217   3.4145   3.0923   3.0921   3.6659   3.6659   3.615    3.4952\n",
        "   3.4952   3.4952   3.4952   3.4952   2.7778   2.8561   2.7147   2.7147\n",
        "   2.421    2.1069   2.211    2.1224   2.4329   2.5451   2.7778   2.6775\n",
        "   2.3534   2.548    2.2565   2.4631   2.7301   2.7474   2.4775   2.7592\n",
        "   2.2577   2.1974   2.0869   1.9444   2.0063   1.9929   1.7572   1.7883\n",
        "   1.8125   1.9799   2.1185   2.271    2.3274   2.4699   2.346    2.1107\n",
        "   1.9669   1.8498   1.6686   1.6687   1.6119   1.4394   1.3216   1.4118\n",
        "   1.3459   1.4191   1.5166   1.4608   1.5296   1.5257   1.618    1.5916\n",
        "   1.6102   1.6232   1.7494   1.7455   1.7364   1.8773   1.7573   1.7659\n",
        "   1.7984   1.9709   2.0407   2.162    2.422    2.2834   2.0459   2.4259\n",
        "   2.1      2.2625   2.4259   2.3887   2.5961   2.6463   2.7019   3.1323\n",
        "   3.5549   3.3175   2.9153   2.829    2.741    2.5979   2.7006   2.847\n",
        "   2.9879   3.2797   3.1992   3.7886   4.5667   4.5667   6.4798   6.4798\n",
        "   6.4798   6.2196   6.2196   5.6484   7.309    7.309    7.309    7.6534\n",
        "   7.6534   6.27     6.27     5.118    5.118    3.9454   4.3549   4.3549\n",
        "   4.2392   3.875    3.8771   3.665    3.6526   3.9454   3.5875   3.9454\n",
        "   3.1121   3.4211   2.8893   3.3633   2.8617   3.048    3.2721   3.2721\n",
        "   2.8944   2.8944   3.2157   3.2157   3.3751   3.3751   3.6715   3.6715\n",
        "   3.8384   3.6519   3.6519   3.6519   4.148    4.148    6.1899   6.1899\n",
        "   6.3361   6.3361   7.0355   7.0355   7.9549   7.9549   8.0555   8.0555\n",
        "   7.8265   7.8265   7.3967   7.3967   8.9067   8.9067   9.2203   9.2203\n",
        "   6.3361   1.801    1.8946   2.0107   2.1121   2.1398   2.2885   2.0788\n",
        "   1.9301   1.9865   2.1329   2.4216   2.872    3.9175   4.429    4.429\n",
        "   3.9175   4.3665   4.0776   4.2673   4.7872   4.8628   4.1403   4.1007\n",
        "   4.6947   5.2447   5.2119   5.885    7.3073   7.3073   9.0892   7.3172\n",
        "   7.3172   7.3172   5.1167   5.1167   5.1167   5.5027   5.5027   5.9604\n",
        "   5.9604   6.32     7.8278   7.8278   7.8278   5.4917   5.4917   5.4917\n",
        "   4.022    3.37     3.0992   3.1827   3.3175   3.1025   2.5194   2.6403\n",
        "   2.834    3.2628   3.6023   3.945    3.9986   4.0317   3.5325   4.0019\n",
        "   4.5404   4.5404   4.7211   4.7211   4.7211   5.4159   5.4159   5.4159\n",
        "   5.2146   5.2146   5.8736   6.6407   6.6407   6.4584   6.4584   5.9853\n",
        "   5.2311   5.615    4.8122   4.8122   4.8122   7.0379   6.2669   5.7321\n",
        "   6.4654   8.0136   8.0136   8.5353   8.344    8.7921   8.7921  10.7103\n",
        "  10.7103  12.1265  10.5857  10.5857   2.1222   2.5052   2.7227   2.5091\n",
        "   2.5182   2.2955   2.1036   1.9047   1.9047   1.6132   1.7523   1.5106\n",
        "   1.3325   1.3567   1.2024   1.1691   1.1296   1.1742   1.137    1.3163\n",
        "   1.3449   1.358    1.3861   1.3861   1.4165   1.5192   1.5804   1.5331\n",
        "   1.4395   1.4261   1.4672   1.5184   1.5895   1.7281   1.9265   2.1678\n",
        "   1.77     1.7912   1.7821   1.7257   1.6768   1.6334   1.4896   1.5004\n",
        "   1.5888   1.5741   1.639    1.7028   1.6074   1.4254   1.1781   1.2852\n",
        "   1.4547   1.4655   1.413    1.5275   1.5539   1.5894   1.6582   1.8347\n",
        "   1.8195   1.6475   1.8026   1.794    1.8589   1.8746   1.9512   2.0218\n",
        "   2.0635   1.9096   1.9976   1.8629   1.9356   1.9682   2.0527   2.0882\n",
        "   2.2004   2.3158   2.2222   2.1247   2.0026   1.9142   1.8206   1.8172\n",
        "   1.8662   2.0651   2.0048   1.9784   1.8956   1.9879   2.072    2.198\n",
        "   2.2616   2.185    2.3236   2.3552   2.3682   2.4527   2.4961   2.4358\n",
        "   2.5806   2.7792   2.7831   2.7175   2.5975   2.5671   2.7344   2.8016\n",
        "   2.9634   3.0665   2.8715   2.5403   2.9084   2.8237   3.0334   3.0993\n",
        "   2.8965   2.5329   2.4298   2.206    2.3053   2.1007   2.1705   1.9512\n",
        "   3.4242   3.3317   3.4106   4.0983   3.724    3.9917   3.5459   3.1523\n",
        "   1.8209   1.7554   1.8226   1.8681   2.1099   2.3817   2.3817   2.7986\n",
        "   2.7986   2.8927   2.4091   2.3999   2.4982   2.4786   2.2875   2.1675\n",
        "   2.3889   2.505 ]\n",
        "['RAD      index of accessibility to radial highways']\n",
        "[  1.   2.   2.   3.   3.   3.   5.   5.   5.   5.   5.   5.   5.   4.   4.\n",
        "   4.   4.   4.   4.   4.   4.   4.   4.   4.   4.   4.   4.   4.   4.   4.\n",
        "   4.   4.   4.   4.   4.   5.   5.   5.   5.   3.   3.   3.   3.   3.   3.\n",
        "   3.   3.   3.   3.   3.   4.   4.   4.   4.   3.   5.   2.   5.   8.   8.\n",
        "   8.   8.   8.   8.   3.   4.   4.   4.   4.   4.   4.   4.   4.   4.   5.\n",
        "   5.   5.   5.   5.   5.   4.   4.   4.   4.   3.   3.   3.   3.   2.   2.\n",
        "   2.   2.   4.   4.   4.   2.   2.   2.   2.   2.   5.   5.   5.   5.   5.\n",
        "   5.   5.   5.   5.   5.   5.   6.   6.   6.   6.   6.   6.   6.   6.   6.\n",
        "   2.   2.   2.   2.   2.   2.   2.   4.   4.   4.   4.   4.   4.   4.   4.\n",
        "   4.   4.   4.   4.   4.   4.   4.   5.   5.   5.   5.   5.   5.   5.   5.\n",
        "   5.   5.   5.   5.   5.   5.   5.   5.   5.   5.   5.   5.   5.   5.   5.\n",
        "   5.   5.   5.   5.   5.   5.   5.   5.   5.   5.   5.   5.   5.   5.   3.\n",
        "   3.   3.   3.   3.   3.   3.   3.   5.   5.   5.   5.   5.   5.   1.   1.\n",
        "   4.   2.   2.   2.   3.   3.   2.   2.   4.   4.   4.   4.   4.   4.   4.\n",
        "   4.   4.   4.   4.   4.   4.   5.   5.   5.   5.   8.   8.   8.   8.   8.\n",
        "   8.   8.   8.   8.   8.   8.   8.   8.   8.   8.   8.   8.   8.   6.   6.\n",
        "   6.   6.   6.   6.   7.   7.   7.   7.   7.   7.   7.   7.   7.   7.   1.\n",
        "   1.   3.   5.   5.   5.   5.   5.   5.   5.   5.   5.   5.   5.   5.   3.\n",
        "   3.   3.   3.   3.   4.   4.   4.   4.   4.   5.   5.   5.   5.   1.   1.\n",
        "   1.   1.   6.   6.   6.   4.   4.   4.   4.   4.   4.   4.   4.   5.   5.\n",
        "   5.   7.   7.   7.   7.   7.   7.   7.   4.   4.   4.   4.   4.   4.   4.\n",
        "   4.   4.   4.   4.   4.   5.   5.   5.   5.   5.   5.   5.   5.   4.   4.\n",
        "   4.   1.   1.   5.   5.   5.   5.   5.   5.   5.   5.   1.   1.   5.   5.\n",
        "   3.   3.   4.   4.   1.   1.   4.   4.   5.   4.   4.  24.  24.  24.  24.\n",
        "  24.  24.  24.  24.  24.  24.  24.  24.  24.  24.  24.  24.  24.  24.  24.\n",
        "  24.  24.  24.  24.  24.  24.  24.  24.  24.  24.  24.  24.  24.  24.  24.\n",
        "  24.  24.  24.  24.  24.  24.  24.  24.  24.  24.  24.  24.  24.  24.  24.\n",
        "  24.  24.  24.  24.  24.  24.  24.  24.  24.  24.  24.  24.  24.  24.  24.\n",
        "  24.  24.  24.  24.  24.  24.  24.  24.  24.  24.  24.  24.  24.  24.  24.\n",
        "  24.  24.  24.  24.  24.  24.  24.  24.  24.  24.  24.  24.  24.  24.  24.\n",
        "  24.  24.  24.  24.  24.  24.  24.  24.  24.  24.  24.  24.  24.  24.  24.\n",
        "  24.  24.  24.  24.  24.  24.  24.  24.  24.  24.  24.  24.  24.  24.  24.\n",
        "  24.  24.  24.  24.  24.  24.  24.  24.   4.   4.   4.   4.   4.   6.   6.\n",
        "   6.   6.   6.   6.   6.   6.   1.   1.   1.   1.   1.]\n",
        "['TAX      full-value property-tax rate per $10,000']\n",
        "[ 296.  242.  242.  222.  222.  222.  311.  311.  311.  311.  311.  311.\n",
        "  311.  307.  307.  307.  307.  307.  307.  307.  307.  307.  307.  307.\n",
        "  307.  307.  307.  307.  307.  307.  307.  307.  307.  307.  307.  279.\n",
        "  279.  279.  279.  252.  252.  233.  233.  233.  233.  233.  233.  233.\n",
        "  233.  233.  243.  243.  243.  243.  469.  226.  313.  256.  284.  284.\n",
        "  284.  284.  284.  284.  216.  337.  337.  345.  345.  345.  305.  305.\n",
        "  305.  305.  398.  398.  398.  398.  398.  398.  281.  281.  281.  281.\n",
        "  247.  247.  247.  247.  270.  270.  270.  270.  270.  270.  270.  276.\n",
        "  276.  276.  276.  276.  384.  384.  384.  384.  384.  384.  384.  384.\n",
        "  384.  384.  384.  432.  432.  432.  432.  432.  432.  432.  432.  432.\n",
        "  188.  188.  188.  188.  188.  188.  188.  437.  437.  437.  437.  437.\n",
        "  437.  437.  437.  437.  437.  437.  437.  437.  437.  437.  403.  403.\n",
        "  403.  403.  403.  403.  403.  403.  403.  403.  403.  403.  403.  403.\n",
        "  403.  403.  403.  403.  403.  403.  403.  403.  403.  403.  403.  403.\n",
        "  403.  403.  403.  403.  296.  296.  296.  296.  296.  296.  296.  193.\n",
        "  193.  193.  193.  193.  193.  193.  193.  398.  398.  398.  398.  398.\n",
        "  398.  265.  265.  255.  329.  329.  329.  402.  402.  348.  348.  224.\n",
        "  224.  277.  277.  277.  277.  277.  277.  277.  277.  277.  277.  277.\n",
        "  276.  276.  276.  276.  307.  307.  307.  307.  307.  307.  307.  307.\n",
        "  307.  307.  307.  307.  307.  307.  307.  307.  307.  307.  300.  300.\n",
        "  300.  300.  300.  300.  330.  330.  330.  330.  330.  330.  330.  330.\n",
        "  330.  330.  315.  315.  244.  264.  264.  264.  264.  264.  264.  264.\n",
        "  264.  264.  264.  264.  264.  223.  223.  223.  223.  223.  254.  254.\n",
        "  254.  254.  254.  216.  216.  216.  216.  198.  285.  300.  241.  293.\n",
        "  293.  293.  245.  245.  245.  289.  289.  289.  289.  289.  358.  358.\n",
        "  358.  329.  329.  329.  222.  222.  222.  222.  304.  304.  304.  304.\n",
        "  304.  304.  304.  304.  304.  304.  304.  304.  287.  287.  287.  287.\n",
        "  287.  287.  287.  287.  430.  430.  430.  304.  304.  224.  224.  224.\n",
        "  224.  224.  224.  224.  224.  284.  422.  370.  370.  352.  352.  351.\n",
        "  280.  335.  335.  411.  411.  187.  334.  334.  666.  666.  666.  666.\n",
        "  666.  666.  666.  666.  666.  666.  666.  666.  666.  666.  666.  666.\n",
        "  666.  666.  666.  666.  666.  666.  666.  666.  666.  666.  666.  666.\n",
        "  666.  666.  666.  666.  666.  666.  666.  666.  666.  666.  666.  666.\n",
        "  666.  666.  666.  666.  666.  666.  666.  666.  666.  666.  666.  666.\n",
        "  666.  666.  666.  666.  666.  666.  666.  666.  666.  666.  666.  666.\n",
        "  666.  666.  666.  666.  666.  666.  666.  666.  666.  666.  666.  666.\n",
        "  666.  666.  666.  666.  666.  666.  666.  666.  666.  666.  666.  666.\n",
        "  666.  666.  666.  666.  666.  666.  666.  666.  666.  666.  666.  666.\n",
        "  666.  666.  666.  666.  666.  666.  666.  666.  666.  666.  666.  666.\n",
        "  666.  666.  666.  666.  666.  666.  666.  666.  666.  666.  666.  666.\n",
        "  666.  666.  666.  666.  666.  666.  666.  666.  711.  711.  711.  711.\n",
        "  711.  391.  391.  391.  391.  391.  391.  391.  391.  273.  273.  273.\n",
        "  273.  273.]\n"
       ]
      },
      {
       "metadata": {},
       "output_type": "display_data",
       "png": "[encoded data removed]",
       "text": [
        "<matplotlib.figure.Figure at 0x113e49b90>"
       ]
      }
     ],
     "prompt_number": 69
    },
    {
     "cell_type": "markdown",
     "metadata": {},
     "source": [
      "#Part 2: Supervised Learning\n",
      "In supervised learning we have a dataset consisting of both features (indepdenent variables) and labels (dependent variable). The task is to construct an estimator which is able to predict the label of an object given the set of features. The label can take either numeric (regression) or categorical (classification) values.\n",
      "\n",
      "#Part 2.1: Linear Regression\n",
      "\n",
      "During the class we saw **linear regression**. We will now see an example of linear regreesion on the diabetes dataset from scikit."
     ]
    },
    {
     "cell_type": "code",
     "collapsed": false,
     "input": [
      "# Import linear regression and the diabetes dataset\n",
      "from sklearn.linear_model import LinearRegression\n",
      "from sklearn.datasets import load_diabetes\n",
      "\n",
      "# Load the diabetes dataset\n",
      "diabetes = load_diabetes()\n",
      "\n",
      "# Use only one feature -- the following code creates a 1-dimensional \n",
      "# array containing just the second feature\n",
      "diabetes_X = diabetes.data[:, np.newaxis]\n",
      "diabetes_X_temp = diabetes_X[:,:,2]\n",
      "\n",
      "# Split the data into training/testing sets -- we will use all but last 20 elements for training\n",
      "diabetes_X_train = diabetes_X_temp[:-20]\n",
      "diabetes_X_test = diabetes_X_temp[-20:]\n",
      "\n",
      "# Split the targets into training/testing sets\n",
      "diabetes_y_train = diabetes.target[:-20]\n",
      "diabetes_y_test = diabetes.target[-20:]\n",
      "\n",
      "# Create linear regression object\n",
      "regr = LinearRegression()\n",
      "\n",
      "# Train the model using the training sets\n",
      "regr.fit(diabetes_X_train, diabetes_y_train)"
     ],
     "language": "python",
     "metadata": {},
     "outputs": [
      {
       "metadata": {},
       "output_type": "pyout",
       "prompt_number": 70,
       "text": [
        "LinearRegression(copy_X=True, fit_intercept=True, normalize=False)"
       ]
      }
     ],
     "prompt_number": 70
    },
    {
     "cell_type": "code",
     "collapsed": false,
     "input": [
      "# The coefficients\n",
      "print 'Coefficients:', regr.coef_\n",
      "# The mean square error\n",
      "print(\"Residual sum of squares: %.2f\"\n",
      "      % np.mean((regr.predict(diabetes_X_test) - diabetes_y_test) ** 2))"
     ],
     "language": "python",
     "metadata": {},
     "outputs": [
      {
       "output_type": "stream",
       "stream": "stdout",
       "text": [
        "Coefficients: [ 938.23786125]\n",
        "Residual sum of squares: 2548.07\n"
       ]
      }
     ],
     "prompt_number": 71
    },
    {
     "cell_type": "code",
     "collapsed": false,
     "input": [
      "# Predict the values of unseen items\n",
      "predicted_targets = regr.predict(diabetes_X_test)\n",
      "\n",
      "# Plot outputs\n",
      "plt.scatter(diabetes_X_test, diabetes_y_test,  color='black')\n",
      "plt.plot(diabetes_X_test, predicted_targets , color='blue',\n",
      "         linewidth=3)\n",
      "\n",
      "plt.show()"
     ],
     "language": "python",
     "metadata": {},
     "outputs": [
      {
       "metadata": {},
       "output_type": "display_data",
       "png": "[encoded data removed]",
       "text": [
        "<matplotlib.figure.Figure at 0x1169d4ad0>"
       ]
      }
     ],
     "prompt_number": 72
    },
    {
     "cell_type": "markdown",
     "metadata": {},
     "source": [
      "As we can see, we don't really have very good prediction here -- the blue line are the predicted values, whereas the black dots are the actual values. In other words, this single feature does not seem that predictive. "
     ]
    },
    {
     "cell_type": "markdown",
     "metadata": {},
     "source": [
      "# Exercise 2: Prediction error when using more features\n",
      "We ran linear regression using only one feature. Now we will run linear regression with all the features in the dataset."
     ]
    },
    {
     "cell_type": "code",
     "collapsed": false,
     "input": [
      "# Split the data into training/testing sets\n",
      "diabetes_X_train = diabetes.data[:-20]\n",
      "diabetes_X_test = diabetes.data[-20:]\n",
      "\n",
      "# Split the targets into training/testing sets\n",
      "diabetes_y_train = diabetes.target[:-20]\n",
      "diabetes_y_test = diabetes.target[-20:]\n",
      "\n",
      "# Create linear regression object\n",
      "regr = LinearRegression()\n",
      "\n",
      "# Train the model using the training sets\n",
      "regr.fit(diabetes_X_train, diabetes_y_train)"
     ],
     "language": "python",
     "metadata": {},
     "outputs": [
      {
       "metadata": {},
       "output_type": "pyout",
       "prompt_number": 73,
       "text": [
        "LinearRegression(copy_X=True, fit_intercept=True, normalize=False)"
       ]
      }
     ],
     "prompt_number": 73
    },
    {
     "cell_type": "markdown",
     "metadata": {},
     "source": [
      "## Exercise 2.1:\n",
      "\n",
      "Calculate and print the mean squared error (as we did above with just 1 feature). Did using all the available features improve the estimator's performance?\n",
      "\n",
      "---"
     ]
    },
    {
     "cell_type": "code",
     "collapsed": false,
     "input": [
      "# Exercise 2.1\n",
      "# The mean square error\n",
      "print(\"Residual sum of squares: %.2f\"\n",
      "      % np.mean((regr.predict(diabetes_X_test) - diabetes_y_test) ** 2))\n",
      "\n",
      "# Using all the available features improves the estimator's performance"
     ],
     "language": "python",
     "metadata": {},
     "outputs": [
      {
       "output_type": "stream",
       "stream": "stdout",
       "text": [
        "Residual sum of squares: 2004.57\n"
       ]
      }
     ],
     "prompt_number": 74
    },
    {
     "cell_type": "markdown",
     "metadata": {},
     "source": [
      "In this part you will use feature selection to find the optimal number of features to be used for this prediction task. The classes in the sklearn.feature_selection module can be used for feature selection on sample sets to improve the estimators' accuracy. Here, we will use [Recursive feature elimination](http://scikit-learn.org/stable/modules/generated/sklearn.feature_selection.RFE.html#sklearn.feature_selection.RFE)."
     ]
    },
    {
     "cell_type": "code",
     "collapsed": false,
     "input": [
      "# Import recursive feature elimination\n",
      "\n",
      "from sklearn.feature_selection import RFE\n",
      "\n",
      "# Create the RFE object using two features and rank the features for the diabetes datasets\n",
      "rfe = RFE(estimator=regr, n_features_to_select=2, step=1)\n",
      "rfe.fit(diabetes_X_train,diabetes_y_train)\n",
      "print rfe.ranking_"
     ],
     "language": "python",
     "metadata": {},
     "outputs": [
      {
       "output_type": "stream",
       "stream": "stdout",
       "text": [
        "[9 5 1 4 2 3 7 6 1 8]\n"
       ]
      }
     ],
     "prompt_number": 75
    },
    {
     "cell_type": "markdown",
     "metadata": {},
     "source": [
      "## Exercise 2.2\n",
      "   * Calculate and print the mean squared error when using two features. Is it better to use all the features (i.e., a more complex model), or does using fewer features (i.e., a simpler model) lead to an estimator of higher accuracy? \n",
      "   * Plot the mean squared error when using feature selection for 1 to 10 features. What is the optimal number of features to be used?"
     ]
    },
    {
     "cell_type": "code",
     "collapsed": false,
     "input": [
      "# Ex. 2.2\n",
      "# The mean square error\n",
      "# Use only two features -- the following code creates a 1-dimensional \n",
      "# array containing just the second feature\n",
      "\n",
      "\"\"\"\n",
      "# Split the data into training/testing sets -- we will use all but last 20 elements for training\n",
      "diabetes_X_train = diabetes.data[:-20]\n",
      "diabetes_X_test = diabetes.data[-20:]\n",
      "\n",
      "# Split the targets into training/testing sets\n",
      "diabetes_y_train = diabetes.target[:-20]\n",
      "diabetes_y_test = diabetes.target[-20:]\n",
      "\n",
      "# Create linear regression object\n",
      "regr = LinearRegression()\n",
      "\n",
      "# Train the model using the training sets\n",
      "regr.fit(diabetes_X_train, diabetes_y_train)\n",
      "\n",
      "print(\"Residual sum of squares: %.2f\"\n",
      "      % np.mean((rfe.predict(diabetes_X_test) - diabetes_y_test) ** 2))\n",
      "\"\"\"\n",
      "\n",
      "# Split the data into training/testing sets -- we will use all but last 20 elements for training\n",
      "diabetes_X_train = diabetes.data[:-20]\n",
      "diabetes_X_test = diabetes.data[-20:]\n",
      "\n",
      "# Split the targets into training/testing sets\n",
      "diabetes_y_train = diabetes.target[:-20]\n",
      "diabetes_y_test = diabetes.target[-20:]\n",
      "\n",
      "rfe = RFE(estimator=regr, n_features_to_select=2, step=1)\n",
      "rfe.fit(diabetes_X_train,diabetes_y_train)\n",
      "\n",
      "print(\"Residual sum of squares with 2 features: %.2f\"\n",
      "      % np.mean((rfe.predict(diabetes_X_test) - diabetes_y_test) ** 2))\n",
      "print(\"Using fewer features is not necessarily better. Ex: 2 features > 10 but 8 > 2 features\")\n",
      "\n",
      "# print mean sq error for 1 to 10 features\n",
      "features = [1,2,3,4,5,6,7,8,9,10]\n",
      "means = []\n",
      "for i in features:\n",
      "    rfe = RFE(estimator=regr, n_features_to_select=i, step=1)\n",
      "    rfe.fit(diabetes_X_train,diabetes_y_train)\n",
      "    \n",
      "    mean_sq = np.mean((rfe.predict(diabetes_X_test) - diabetes_y_test) ** 2)\n",
      "    print(\"Num Features: %d Residual sum of squares: %.2f\"\n",
      "      % (i, mean_sq))\n",
      "    means.append(mean_sq)\n",
      "\n",
      "\n",
      "print(\"Optimal number of features: 3\")\n",
      "plt.scatter(features, means,  color='black')\n",
      "plt.title(\"# of Features vs. Mean Squared Error\")\n",
      "plt.xlabel('# of Features')\n",
      "plt.ylabel('Mean Squared Error')\n",
      "plt.show()\n"
     ],
     "language": "python",
     "metadata": {},
     "outputs": [
      {
       "output_type": "stream",
       "stream": "stdout",
       "text": [
        "Residual sum of squares with 2 features: 1984.51\n",
        "Using fewer features is not necessarily better. Ex: 2 features > 10 but 8 > 2 features\n",
        "Num Features: 1 Residual sum of squares: 2548.07\n",
        "Num Features: 2 Residual sum of squares: 1984.51\n",
        "Num Features: 3 Residual sum of squares: 1887.60\n",
        "Num Features: 4 Residual sum of squares: 1948.35\n",
        "Num Features: 5 Residual sum of squares: 2097.22\n",
        "Num Features: 6 Residual sum of squares: 1948.28\n",
        "Num Features: 7 Residual sum of squares: 1961.01\n",
        "Num Features: 8 Residual sum of squares: 1962.54\n",
        "Num Features: 9 Residual sum of squares: 2004.30\n",
        "Num Features: 10 Residual sum of squares: 2004.57\n",
        "Optimal number of features: 3\n"
       ]
      },
      {
       "metadata": {},
       "output_type": "display_data",
       "png": "[encoded data removed]",
       "text": [
        "<matplotlib.figure.Figure at 0x1169d4290>"
       ]
      }
     ],
     "prompt_number": 76
    },
    {
     "cell_type": "markdown",
     "metadata": {},
     "source": [
      "# Exercise 3: Linear regression on the boston house prices dataset.\n",
      "\n",
      "Now you need to perform linear regression on the housing data you loaded and explored in Exercise 1. "
     ]
    },
    {
     "cell_type": "markdown",
     "metadata": {},
     "source": [
      "## Exercise 3.1: \n",
      "You will train a set of linear regression estimators to predict the house prices in Boston. Using all the available features, train different linear regression models for the following training-test data splits: (a) 20% training, 80% testing, (b) 40% training, 60% testing, (c) 60% training, 40% testing, and (d) 80% training, 20% testing. Plot the mean squared error for the different configurations. \n",
      "\n",
      "## Exercise 3.2:\n",
      "Use recursive feature evaluation to find the best set of features for prediction. Which are these? Using exactly the same training-test splits you used in Exercise 3.1 plot the mean squared error for a linear regression model that uses only the set of features you found in the first part of this question. "
     ]
    },
    {
     "cell_type": "code",
     "collapsed": false,
     "input": [
      "# Ex. 3.1\n",
      "# Split the data into training/testing sets\n",
      "training_percent_data = [.20, .40, .60, .80]\n",
      "\n",
      "n_samples, n_Features = boston.data.shape\n",
      "n_samples = float(n_samples)\n",
      "print 'Number of samples = ', n_samples\n",
      "print 'Number of features = ', n_Features\n",
      "\n",
      "means = []\n",
      "\n",
      "for t in training_percent_data:\n",
      "    train_size = int(n_samples * t)\n",
      "\n",
      "    boston_X_train = boston.data[:train_size]\n",
      "    boston_X_test = boston.data[train_size:]\n",
      "\n",
      "    # Split the targets into training/testing sets\n",
      "    boston_y_train = boston.target[:train_size]\n",
      "    boston_y_test = boston.target[train_size:]\n",
      "    \n",
      "    # Create linear regression object\n",
      "    regr = LinearRegression()\n",
      "    \n",
      "    # Train the model using the training sets\n",
      "    regr.fit(boston_X_train, boston_y_train)\n",
      "    \n",
      "    means.append(np.mean((regr.predict(boston_X_test) - boston_y_test) ** 2))\n",
      "\n",
      "    \n",
      "print \"a.) \", means[0]\n",
      "print \"b.) \", means[1]\n",
      "print \"c.) \", means[2]\n",
      "print \"d.) \", means[3]\n",
      "\n",
      "plt.scatter([20,40,60,80], means,  color='black')\n",
      "plt.title(\"Percentage of Training Data Split vs. Mean Squared Error\")\n",
      "plt.xlabel('Percentage of Training Data Split')\n",
      "plt.ylabel('Mean Squared Error')\n",
      "plt.show()\n",
      "\n",
      "# Create the RFE object using two features and rank the features for the diabetes datasets\n",
      "# Create linear regression object\n",
      "regr = LinearRegression()\n",
      "\n",
      "# use 80-20 split to select the best features\n",
      "train_size = int(n_samples * .80)\n",
      "\n",
      "boston_X_train = boston.data[:train_size]\n",
      "boston_X_test = boston.data[train_size:]\n",
      "\n",
      "# Split the targets into training/testing sets\n",
      "boston_y_train = boston.target[:train_size]\n",
      "boston_y_test = boston.target[train_size:]\n",
      "\n",
      "\"\"\"\n",
      "# Train the model using the training sets\n",
      "regr.fit(boston_X_train, boston_y_train)\n",
      "rfe = RFE(estimator=regr, n_features_to_select=n_Features, step=1)\n",
      "rfe.fit(boston_X_train, boston_y_train)\n",
      "print rfe.ranking_\n",
      "#print np.mean((regr.predict(boston_X_test) - boston_y_test) ** 2)   \n",
      "\"\"\"\n",
      "# print mean sq error for 1 to 10 features\n",
      "features = [1,2,3,4,5,6,7,8,9,10]\n",
      "means = []\n",
      "\n",
      "lowest_num_features = 0\n",
      "lowest_features_ranking = []\n",
      "min_mean_sq = float(\"inf\")\n",
      "for i in features:\n",
      "    rfe = RFE(estimator=regr, n_features_to_select=i, step=1)\n",
      "    rfe.fit(boston_X_train, boston_y_train)\n",
      "    \n",
      "    mean_sq = np.mean((rfe.predict(boston_X_test) - boston_y_test) ** 2)\n",
      "    \n",
      "    if(mean_sq < min_mean_sq):\n",
      "        min_mean_sq = mean_sq\n",
      "        lowest_num_features = i\n",
      "        lowest_features_ranking = rfe.ranking_\n",
      "    \n",
      "    #print(\"Num Features: %d Residual sum of squares: %.2f\" % (i, mean_sq))\n",
      "\n",
      "print \"Lowest num features: %f\" % lowest_num_features\n",
      "print \"Lowest features RFE ranking: %s\" % lowest_features_ranking\n",
      "\n",
      "# get best features (i=1 corresponds to feature 1)\n",
      "i = 1\n",
      "best_features = []\n",
      "for ranking in lowest_features_ranking:\n",
      "    if(ranking == 1):\n",
      "        best_features.append(i)\n",
      "    i += 1\n",
      "\n",
      "print \"Best features: \", best_features\n",
      "\n",
      "\n",
      "\"\"\"\n",
      "rfe = RFE(estimator=regr, n_features_to_select=i, step=1)\n",
      "    rfe.fit(boston_X_train, boston_y_train)\n",
      "    \n",
      "    mean_sq = np.mean((rfe.predict(boston_X_test) - boston_y_test) ** 2)\n",
      "\"\"\"\n",
      "\n",
      "means = []\n",
      "for t in training_percent_data:\n",
      "    train_size = int(n_samples * t)\n",
      "    \n",
      "    # Split the targets into training/testing sets\n",
      "    boston_X_train = boston.data[:train_size]\n",
      "    boston_X_test = boston.data[train_size:]\n",
      "    boston_y_train = boston.target[:train_size]\n",
      "    boston_y_test = boston.target[train_size:]\n",
      "    \n",
      "    # Create linear regression object\n",
      "    regr = LinearRegression()\n",
      "    rfe = RFE(estimator=regr, n_features_to_select=lowest_num_features, step=1)\n",
      "    # Train the model using the training sets\n",
      "    rfe.fit(boston_X_train, boston_y_train)\n",
      "    \n",
      "    means.append(np.mean((rfe.predict(boston_X_test) - boston_y_test) ** 2))\n",
      "\n",
      "plt.scatter([20,40,60,80], means,  color='black')\n",
      "plt.title(\"Mean Squared Error Data Split Comparison With %d Features\" % lowest_num_features)\n",
      "plt.xlabel('Percentage of Training Data Split')\n",
      "plt.ylabel('Mean Squared Error (using %d features)' % lowest_num_features)\n",
      "plt.show()\n"
     ],
     "language": "python",
     "metadata": {},
     "outputs": [
      {
       "output_type": "stream",
       "stream": "stdout",
       "text": [
        "Number of samples =  506.0\n",
        "Number of features =  13\n",
        "a.)  1555.09816467\n",
        "b.)  318.376237625\n",
        "c.)  367.857063267\n",
        "d.)  33.0756264923\n"
       ]
      },
      {
       "metadata": {},
       "output_type": "display_data",
       "png": "[encoded data removed]",
       "text": [
        "<matplotlib.figure.Figure at 0x1168a9a10>"
       ]
      },
      {
       "output_type": "stream",
       "stream": "stdout",
       "text": [
        "Lowest num features: 6.000000\n",
        "Lowest features RFE ranking: [3 4 5 1 1 1 7 1 2 6 1 8 1]\n",
        "Best features:  [4, 5, 6, 8, 11, 13]\n"
       ]
      },
      {
       "metadata": {},
       "output_type": "display_data",
       "png": "[encoded data removed]",
       "text": [
        "<matplotlib.figure.Figure at 0x116f33310>"
       ]
      }
     ],
     "prompt_number": 77
    },
    {
     "cell_type": "markdown",
     "metadata": {},
     "source": [
      "#Part 2.2: Classification\n",
      "\n",
      "Now we move to classification an instance of supervised machine learning that corresponds to identifying to which of a set of **categories** a new observation belongs. We will see how scikit-learn can be used to perform classification on synthetic data. "
     ]
    },
    {
     "cell_type": "code",
     "collapsed": false,
     "input": [
      "# Import synthetic data generator\n",
      "from sklearn.datasets import make_classification, make_moons\n",
      "\n",
      "# Generate synthetic dataset\n",
      "X_temp, y_temp = make_classification(n_features=2, n_redundant=0, n_informative=2, n_clusters_per_class=1, random_state=1, n_classes=2)\n",
      "X, y = make_moons(noise=0.3, random_state=0)\n",
      "\n",
      "# Plot synthetic dataset\n",
      "colormap = np.array(['r', 'g'])\n",
      "plt.scatter(X[:,0],X[:,1],marker='o',c=colormap[y], s=50)\n",
      "plt.show()"
     ],
     "language": "python",
     "metadata": {},
     "outputs": [
      {
       "metadata": {},
       "output_type": "display_data",
       "png": "[encoded data removed]",
       "text": [
        "<matplotlib.figure.Figure at 0x116ef6c10>"
       ]
      }
     ],
     "prompt_number": 78
    },
    {
     "cell_type": "code",
     "collapsed": false,
     "input": [
      "# Split synthetic dataset into training and test data\n",
      "X_train = X[:-20,:]\n",
      "X_test = X[-20:,:]\n",
      "\n",
      "y_train = y[:-20]\n",
      "y_test = y[-20:]"
     ],
     "language": "python",
     "metadata": {},
     "outputs": [],
     "prompt_number": 79
    },
    {
     "cell_type": "markdown",
     "metadata": {},
     "source": [
      "To perform classification we will use [support vector machines](http://en.wikipedia.org/wiki/Support_vector_machine). In particular, we will use both **linear SVMs** that try to separate the data without performing any transformation on the feature values, and **non-linear SVMs** that try to separate the data after performing a non-linear transformation on the feature values."
     ]
    },
    {
     "cell_type": "code",
     "collapsed": false,
     "input": [
      "# Import SVM\n",
      "from sklearn import svm\n",
      "\n",
      "# Create linear SVM \n",
      "clf_linear = svm.SVC(kernel='linear')\n",
      "\n",
      "# Fit linear SVM\n",
      "clf_linear.fit(X_train, y_train)\n",
      "\n",
      "# Predict class for testing data\n",
      "pred = clf_linear.predict(X_test)\n",
      "\n",
      "# Calculate prediction error for testing data\n",
      "errors = 0.0\n",
      "for i in range(len(pred)):\n",
      "    if pred[i] != y_test[i]:\n",
      "        errors += 1.0\n",
      "print \"Test data errors = \",errors, \"out of\", len(pred), \"predictions\"\n",
      "\n",
      "# Calculate prediction error for all points\n",
      "total_pred = clf_linear.predict(X)\n",
      "errors = 0.0\n",
      "for i in range(len(total_pred)):\n",
      "    if total_pred[i] != y[i]:\n",
      "        errors += 1.0\n",
      "print \"Total errors = \",errors, \"out of\", len(total_pred), \"predictions\""
     ],
     "language": "python",
     "metadata": {},
     "outputs": [
      {
       "output_type": "stream",
       "stream": "stdout",
       "text": [
        "Test data errors =  2.0 out of 20 predictions\n",
        "Total errors =  15.0 out of 100 predictions\n"
       ]
      }
     ],
     "prompt_number": 80
    },
    {
     "cell_type": "markdown",
     "metadata": {},
     "source": [
      "Let's see how the linear SVM separated the space."
     ]
    },
    {
     "cell_type": "code",
     "collapsed": false,
     "input": [
      "# create a mesh to plot in\n",
      "h = .02\n",
      "x_min, x_max = X[:, 0].min() - 1, X[:, 0].max() + 1\n",
      "y_min, y_max = X[:, 1].min() - 1, X[:, 1].max() + 1\n",
      "xx, yy = np.meshgrid(np.arange(x_min, x_max, h),\n",
      "                     np.arange(y_min, y_max, h))\n",
      "\n",
      "# put the result into a color plot\n",
      "Z = clf_linear.predict(np.c_[xx.ravel(), yy.ravel()])\n",
      "Z = Z.reshape(xx.shape)\n",
      "pylab.contourf(xx,yy,Z,cmap=pylab.cm.Paired)\n",
      "pylab.axis('off')\n",
      "\n",
      "# plot the data points\n",
      "pylab.scatter(X[:,0],X[:,1],c=colormap[y], s=50,cmap=pylab.cm.Paired)\n"
     ],
     "language": "python",
     "metadata": {},
     "outputs": []
    },
    {
     "cell_type": "markdown",
     "metadata": {},
     "source": [
      "Next we will use a non-linear SVM for the previous classification task. We evaluate the performance of the new classifier and plot the space separation as above."
     ]
    },
    {
     "cell_type": "code",
     "collapsed": false,
     "input": [
      "# Create non-linear SVM using the Radial Basis Kernel function\n",
      "\n",
      "clf_non_linear = svm.SVC(kernel='rbf')\n",
      "\n",
      "# Fit the svm\n",
      "\n",
      "clf_non_linear.fit(X_train,y_train)\n",
      "\n",
      "# Calculate prediction error for testing data\n",
      "pred = clf_non_linear.predict(X_test)\n",
      "errors = 0.0\n",
      "for i in range(len(pred)):\n",
      "    if pred[i] != y_test[i]:\n",
      "        errors += 1.0\n",
      "print \"Test data errors = \",errors, \"out of\", len(pred), \"predictions\"\n",
      "\n",
      "# Calculate prediction error for all points\n",
      "total_pred = clf_non_linear.predict(X)\n",
      "errors = 0.0\n",
      "for i in range(len(total_pred)):\n",
      "    if total_pred[i] != y[i]:\n",
      "        errors += 1.0\n",
      "print \"Total errors = \",errors, \"out of\", len(total_pred), \"predictions\"\n"
     ],
     "language": "python",
     "metadata": {},
     "outputs": [
      {
       "output_type": "stream",
       "stream": "stdout",
       "text": [
        "Test data errors =  0.0 out of 20 predictions\n",
        "Total errors =  8.0 out of 100 predictions\n"
       ]
      }
     ],
     "prompt_number": 82
    },
    {
     "cell_type": "code",
     "collapsed": false,
     "input": [
      "# create a mesh to plot in\n",
      "h = .02\n",
      "x_min, x_max = X[:, 0].min() - 1, X[:, 0].max() + 1\n",
      "y_min, y_max = X[:, 1].min() - 1, X[:, 1].max() + 1\n",
      "xx, yy = np.meshgrid(np.arange(x_min, x_max, h),\n",
      "                     np.arange(y_min, y_max, h))\n",
      "\n",
      "# put the result into a color plot\n",
      "Z = clf_non_linear.predict(np.c_[xx.ravel(), yy.ravel()])\n",
      "Z = Z.reshape(xx.shape)\n",
      "pylab.contourf(xx,yy,Z,cmap=pylab.cm.Paired)\n",
      "pylab.axis('off')\n",
      "\n",
      "# plot the data points\n",
      "pylab.scatter(X[:,0],X[:,1],c=colormap[y], s=50,cmap=pylab.cm.Paired)"
     ],
     "language": "python",
     "metadata": {},
     "outputs": [
      {
       "metadata": {},
       "output_type": "pyout",
       "prompt_number": 83,
       "text": [
        "<matplotlib.collections.PathCollection at 0x116f20d90>"
       ]
      },
      {
       "metadata": {},
       "output_type": "display_data",
       "png": "[encoded data removed]",
       "text": [
        "<matplotlib.figure.Figure at 0x11620a150>"
       ]
      }
     ],
     "prompt_number": 83
    },
    {
     "cell_type": "markdown",
     "metadata": {},
     "source": [
      "#Exercise 4: Classification on the Iris dataset\n",
      "\n",
      "**Part 1:** Load the iris dataset presented above. Split the dataset in two sets, one for training and one for testing. You should use 80% of the data for training and 20% percent for testing. Perform classification on the test data using a linear and non-linear SVM, calculate the classification error on the testing data and the whole dataset. \n",
      "\n",
      "**Part 2:** Apart from SVMs there are many more classifiers in scikit-learn. Some choices are:\n",
      "\n",
      "   * sklearn.neighbors.NeighborsClassifier : k-Nearest Neighbors classifier based on the ball tree datastructure for low dimensional data and brute force search for high dimensional data\n",
      "   * sklearn.tree.DecisionTreeClassifier : A classifier based on a series of binary decisions. This is another very fast classifier, which can be very powerful.\n",
      "    \n",
      "Use the DecisionTreeClassifier, import it, and use the ? feature to learn about it. Then instantiate this model (similar steps to SVC) and apply it to the iris dataset.\n",
      "\n",
      "\n",
      "**Optional:** Use feature selection as before to find the best set of features for classification."
     ]
    },
    {
     "cell_type": "code",
     "collapsed": false,
     "input": [
      "# Ex. 4\n",
      "iris = load_iris()\n",
      "\n",
      "n_samples, n_Features = iris.data.shape\n",
      "train_size = int(n_samples * .80)\n",
      "\n",
      "print \"Ex 4.1\"\n",
      "\n",
      "# Split the data into training/testing sets\n",
      "iris_X_train = iris.data[:train_size]\n",
      "iris_X_test = iris.data[train_size:]\n",
      "iris_y_train = iris.target[:train_size]\n",
      "iris_y_test = iris.target[train_size:]\n",
      "\n",
      "# LINEAR SVM classification + classification error in testing data + whole dataset\n",
      "clf_linear = svm.SVC(kernel='linear')\n",
      "clf_linear.fit(iris_X_train, iris_y_train)\n",
      "\n",
      "# Predict class for testing data\n",
      "pred = clf_linear.predict(iris_X_test)\n",
      "\n",
      "# Calculate prediction error for testing data\n",
      "errors = 0.0\n",
      "for i in range(len(pred)):\n",
      "    if pred[i] != iris_y_test[i]:\n",
      "        errors += 1.0\n",
      "print \"Linear SVM - Test data errors = \",errors, \"out of\", len(pred), \"predictions\"\n",
      "\n",
      "\n",
      "# Calculate prediction error for all points\n",
      "total_pred = clf_linear.predict(iris.data)\n",
      "errors = 0.0\n",
      "for i in range(len(total_pred)):\n",
      "    if total_pred[i] != iris.target[i]:\n",
      "        errors += 1.0\n",
      "        \n",
      "print \"Linear SVM - Total errors = \",errors, \"out of\", len(total_pred), \"predictions\"\n",
      "\n",
      "\n",
      "# NON-LINEAR SVM\n",
      "\n",
      "# Create non-linear SVM using the Radial Basis Kernel function\n",
      "clf_non_linear = svm.SVC(kernel='rbf')\n",
      "\n",
      "# Fit the svm\n",
      "clf_non_linear.fit(iris_X_train, iris_y_train)\n",
      "\n",
      "# Calculate prediction error for testing data\n",
      "pred = clf_non_linear.predict(iris_X_test)\n",
      "errors = 0.0\n",
      "for i in range(len(pred)):\n",
      "    if pred[i] != iris_y_test[i]:\n",
      "        errors += 1.0\n",
      "print \"Non-linear SVM Test data errors = \",errors, \"out of\", len(pred), \"predictions\"\n",
      "\n",
      "# Calculate prediction error for all points\n",
      "total_pred = clf_non_linear.predict(iris.data)\n",
      "errors = 0.0\n",
      "for i in range(len(total_pred)):\n",
      "    if total_pred[i] != iris.target[i]:\n",
      "        errors += 1.0\n",
      "print \"Non-linear SVM Total errors = \",errors, \"out of\", len(total_pred), \"predictions\"\n",
      "print\n",
      "# ----------------------------------------------------------------------------------------------------"
     ],
     "language": "python",
     "metadata": {},
     "outputs": [
      {
       "output_type": "stream",
       "stream": "stdout",
       "text": [
        "Ex 4.1\n",
        "Linear SVM - Test data errors =  4.0 out of 30 predictions\n",
        "Linear SVM - Total errors =  5.0 out of 150 predictions\n",
        "Non-linear SVM Test data errors =  5.0 out of 30 predictions\n",
        "Non-linear SVM Total errors =  8.0 out of 150 predictions\n",
        "\n"
       ]
      }
     ],
     "prompt_number": 94
    },
    {
     "cell_type": "code",
     "collapsed": false,
     "input": [
      "print \"Ex 4.2\"\n",
      "from sklearn.tree import DecisionTreeClassifier\n",
      "\n",
      "\n",
      "# Ex. 4\n",
      "iris = load_iris()\n",
      "\n",
      "n_samples, n_Features = iris.data.shape\n",
      "train_size = int(n_samples * .80)\n",
      "\n",
      "# Split the data into training/testing sets\n",
      "iris_X_train = iris.data[:train_size]\n",
      "iris_X_test = iris.data[train_size:]\n",
      "iris_y_train = iris.target[:train_size]\n",
      "iris_y_test = iris.target[train_size:]\n",
      "\n",
      "# creat the decision tree, fit it, and get predictions\n",
      "clf_decision_tree = DecisionTreeClassifier(random_state=0)\n",
      "clf_decision_tree.fit(iris_X_train, iris_y_train)\n",
      "\n",
      "pred = clf_decision_tree.predict(iris_X_test)\n",
      "\n",
      "# Calculate prediction error for testing data\n",
      "errors = 0.0\n",
      "for i in range(len(pred)):\n",
      "    if pred[i] != iris_y_test[i]:\n",
      "        errors += 1.0\n",
      "print \"Decision Tree - Test data errors = \",errors, \"out of\", len(pred), \"predictions\"\n",
      "\n",
      "\n",
      "# Calculate prediction error for all points\n",
      "total_pred = clf_decision_tree.predict(iris.data)\n",
      "errors = 0.0\n",
      "for i in range(len(total_pred)):\n",
      "    if total_pred[i] != iris.target[i]:\n",
      "        errors += 1.0\n",
      "        \n",
      "print \"Decision Tree - Total errors = \",errors, \"out of\", len(total_pred), \"predictions\"\n"
     ],
     "language": "python",
     "metadata": {},
     "outputs": [
      {
       "output_type": "stream",
       "stream": "stdout",
       "text": [
        "Ex 4.2\n",
        "Ex 4.1\n",
        "Decision Tree - Test data errors =  6.0 out of 30 predictions\n",
        "Decision Tree - Total errors =  6.0 out of 150 predictions\n"
       ]
      }
     ],
     "prompt_number": 96
    },
    {
     "cell_type": "markdown",
     "metadata": {},
     "source": [
      "#Part 3: Unsupervised Learning\n",
      "Unsupervised learning addresses a different problem. Here the data has no labels, and we are interested in finding *similarities* between the objects in question. You can think of unsupervised learning as a means of discovering labels for the data itself. Next, we focus on clustering. \n",
      "#Part 3.1: Clustering\n",
      "Clustering is the task of grouping a set of objects in such a way that objects in the same group (called a **cluster**) are more similar to each other than to those in other groups. A list of clustering algorithms can be found [here](http://en.wikipedia.org/wiki/Cluster_analysis#Algorithms). In this lab we will focus on a simple yet very effective clustering algorithm named **k-means clustering**. [K-means](http://en.wikipedia.org/wiki/K-means_clustering) aims to partition *n* observations into *k* clusters in which each observation belongs to the cluster with the nearest mean (centroid), serving as a prototype of the cluster. \n",
      "\n",
      "\n",
      "Next, we provide an example of k-means clustering on synthetic data."
     ]
    },
    {
     "cell_type": "code",
     "collapsed": false,
     "input": [
      "# Import synthetic data generator\n",
      "from sklearn.datasets import make_classification\n",
      "\n",
      "# Generate synthetic dataset\n",
      "X, y = make_classification(n_features=2, n_redundant=0, n_informative=2, n_clusters_per_class=1, random_state=5, n_classes=2)\n",
      "\n",
      "# Plot synthetic dataset\n",
      "plt.scatter(X[:,0],X[:,1],marker='o',c=colormap[y], s=50)\n",
      "plt.show()"
     ],
     "language": "python",
     "metadata": {},
     "outputs": []
    },
    {
     "cell_type": "code",
     "collapsed": false,
     "input": [
      "# Import kmeans algorithm and clustering evaluation metrics\n",
      "from sklearn.cluster import KMeans\n",
      "from sklearn import metrics\n",
      "\n",
      "kmeans = KMeans(init='random', n_clusters = 2, n_init=10)\n",
      "kmeans.fit(X)\n",
      "\n",
      "# Evaluate clusters: see http://scikit-learn.org/stable/modules/clustering.html#homogeneity-completeness-and-v-measure for more details\n",
      "\n",
      "# Homogeneity score: evaluates if each cluster contains only memebers of a single class\n",
      "print \"Homogeneity_score = \",metrics.homogeneity_score(y,kmeans.labels_)\n",
      "\n",
      "# Completeness score: evaluates if all members of a given class are assigned to the same cluster\n",
      "print \"Completeness_score = \",metrics.completeness_score(y,kmeans.labels_)"
     ],
     "language": "python",
     "metadata": {},
     "outputs": []
    },
    {
     "cell_type": "markdown",
     "metadata": {},
     "source": [
      "Next, we plot the clusters and the centroids. "
     ]
    },
    {
     "cell_type": "code",
     "collapsed": false,
     "input": [
      "# Plot the decision boundary. For that, we will assign a color to each\n",
      "h = .02\n",
      "x_min, x_max = -2, 4\n",
      "y_min, y_max = -2, 4\n",
      "xx, yy = np.meshgrid(np.arange(x_min, x_max, h), np.arange(y_min, y_max, h))\n",
      "\n",
      "# Obtain labels for each point in mesh. Use last trained model.\n",
      "Z = kmeans.predict(np.c_[xx.ravel(), yy.ravel()])\n",
      "\n",
      "# Put the result into a color plot\n",
      "Z = Z.reshape(xx.shape)\n",
      "plt.clf()\n",
      "plt.imshow(Z, interpolation='nearest',\n",
      "           extent=(xx.min(), xx.max(), yy.min(), yy.max()),\n",
      "           cmap=plt.cm.Paired,\n",
      "           aspect='auto', origin='lower')\n",
      "\n",
      "plt.scatter(X[:,0],X[:,1],marker='o',c=colormap[y], s=50)\n",
      "# Plot the centroids as a white X\n",
      "centroids = kmeans.cluster_centers_\n",
      "plt.scatter(centroids[:, 0], centroids[:, 1],\n",
      "            marker='x', s=169, linewidths=3,\n",
      "            color='w', zorder=10)\n",
      "\n",
      "plt.title('K-means clustering on synthetic data\\n'\n",
      "          'Centroids are marked with white cross')\n",
      "plt.xlim(x_min, x_max)\n",
      "plt.ylim(y_min, y_max)\n",
      "plt.show()"
     ],
     "language": "python",
     "metadata": {},
     "outputs": []
    },
    {
     "cell_type": "markdown",
     "metadata": {},
     "source": [
      "#Exercise 5: Clustering the iris data\n",
      "\n",
      "Apply the k-means algorithm on the iris dataset. Compare its performance with that of the non-linear SVM and decision tree classifiers using all available features. You can use the homogeneity and completeness metrics presneted above to perform this comparison."
     ]
    }
   ],
   "metadata": {}
  }
 ]
}